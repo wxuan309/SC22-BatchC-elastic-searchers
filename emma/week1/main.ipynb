{
 "cells": [
  {
   "cell_type": "markdown",
   "metadata": {
    "collapsed": false
   },
   "source": [
    "### Import Packages\n",
    "\n"
   ]
  },
  {
   "cell_type": "code",
   "execution_count": 1,
   "metadata": {
    "collapsed": false
   },
   "outputs": [
   ],
   "source": [
    "import pandas as pd\n",
    "import plotly.express as px"
   ]
  },
  {
   "cell_type": "markdown",
   "metadata": {
    "collapsed": false
   },
   "source": [
    "### Data Overview\n",
    "\n"
   ]
  },
  {
   "cell_type": "markdown",
   "metadata": {
    "collapsed": false
   },
   "source": [
    "Data source: [https://www.kaggle.com/datasets/debajyotipodder/co2\\-emission\\-by\\-vehicles](https://www.kaggle.com/datasets/debajyotipodder/co2-emission-by-vehicles)\n"
   ]
  },
  {
   "cell_type": "code",
   "execution_count": 2,
   "metadata": {
    "collapsed": false
   },
   "outputs": [
   ],
   "source": [
    "# Load dataset hint: pd.read_csv()\n",
    "df = pd.read_csv('CO2 Emissions_Canada.csv')"
   ]
  },
  {
   "cell_type": "code",
   "execution_count": 3,
   "metadata": {
    "collapsed": false
   },
   "outputs": [
   ],
   "source": [
    "df = pd.read_csv('./archive/CO2 Emissions_Canada.csv')"
   ]
  },
  {
   "cell_type": "code",
   "execution_count": 0,
   "metadata": {
    "collapsed": false
   },
   "outputs": [
   ],
   "source": [
    "# use .head() .info() and similar functions to get an overview of the data"
   ]
  },
  {
   "cell_type": "code",
   "execution_count": 6,
   "metadata": {
    "collapsed": false
   },
   "outputs": [
    {
     "data": {
      "text/html": [
       "<div>\n",
       "<style scoped>\n",
       "    .dataframe tbody tr th:only-of-type {\n",
       "        vertical-align: middle;\n",
       "    }\n",
       "\n",
       "    .dataframe tbody tr th {\n",
       "        vertical-align: top;\n",
       "    }\n",
       "\n",
       "    .dataframe thead th {\n",
       "        text-align: right;\n",
       "    }\n",
       "</style>\n",
       "<table border=\"1\" class=\"dataframe\">\n",
       "  <thead>\n",
       "    <tr style=\"text-align: right;\">\n",
       "      <th></th>\n",
       "      <th>Make</th>\n",
       "      <th>Model</th>\n",
       "      <th>Vehicle Class</th>\n",
       "      <th>Engine Size(L)</th>\n",
       "      <th>Cylinders</th>\n",
       "      <th>Transmission</th>\n",
       "      <th>Fuel Type</th>\n",
       "      <th>Fuel Consumption City (L/100 km)</th>\n",
       "      <th>Fuel Consumption Hwy (L/100 km)</th>\n",
       "      <th>Fuel Consumption Comb (L/100 km)</th>\n",
       "      <th>Fuel Consumption Comb (mpg)</th>\n",
       "      <th>CO2 Emissions(g/km)</th>\n",
       "    </tr>\n",
       "  </thead>\n",
       "  <tbody>\n",
       "    <tr>\n",
       "      <th>0</th>\n",
       "      <td>ACURA</td>\n",
       "      <td>ILX</td>\n",
       "      <td>COMPACT</td>\n",
       "      <td>2.0</td>\n",
       "      <td>4</td>\n",
       "      <td>AS5</td>\n",
       "      <td>Z</td>\n",
       "      <td>9.9</td>\n",
       "      <td>6.7</td>\n",
       "      <td>8.5</td>\n",
       "      <td>33</td>\n",
       "      <td>196</td>\n",
       "    </tr>\n",
       "    <tr>\n",
       "      <th>1</th>\n",
       "      <td>ACURA</td>\n",
       "      <td>ILX</td>\n",
       "      <td>COMPACT</td>\n",
       "      <td>2.4</td>\n",
       "      <td>4</td>\n",
       "      <td>M6</td>\n",
       "      <td>Z</td>\n",
       "      <td>11.2</td>\n",
       "      <td>7.7</td>\n",
       "      <td>9.6</td>\n",
       "      <td>29</td>\n",
       "      <td>221</td>\n",
       "    </tr>\n",
       "    <tr>\n",
       "      <th>2</th>\n",
       "      <td>ACURA</td>\n",
       "      <td>ILX HYBRID</td>\n",
       "      <td>COMPACT</td>\n",
       "      <td>1.5</td>\n",
       "      <td>4</td>\n",
       "      <td>AV7</td>\n",
       "      <td>Z</td>\n",
       "      <td>6.0</td>\n",
       "      <td>5.8</td>\n",
       "      <td>5.9</td>\n",
       "      <td>48</td>\n",
       "      <td>136</td>\n",
       "    </tr>\n",
       "    <tr>\n",
       "      <th>3</th>\n",
       "      <td>ACURA</td>\n",
       "      <td>MDX 4WD</td>\n",
       "      <td>SUV - SMALL</td>\n",
       "      <td>3.5</td>\n",
       "      <td>6</td>\n",
       "      <td>AS6</td>\n",
       "      <td>Z</td>\n",
       "      <td>12.7</td>\n",
       "      <td>9.1</td>\n",
       "      <td>11.1</td>\n",
       "      <td>25</td>\n",
       "      <td>255</td>\n",
       "    </tr>\n",
       "    <tr>\n",
       "      <th>4</th>\n",
       "      <td>ACURA</td>\n",
       "      <td>RDX AWD</td>\n",
       "      <td>SUV - SMALL</td>\n",
       "      <td>3.5</td>\n",
       "      <td>6</td>\n",
       "      <td>AS6</td>\n",
       "      <td>Z</td>\n",
       "      <td>12.1</td>\n",
       "      <td>8.7</td>\n",
       "      <td>10.6</td>\n",
       "      <td>27</td>\n",
       "      <td>244</td>\n",
       "    </tr>\n",
       "  </tbody>\n",
       "</table>\n",
       "</div>"
      ],
      "text/plain": [
       "    Make       Model Vehicle Class  Engine Size(L)  Cylinders Transmission  \\\n",
       "0  ACURA         ILX       COMPACT             2.0          4          AS5   \n",
       "1  ACURA         ILX       COMPACT             2.4          4           M6   \n",
       "2  ACURA  ILX HYBRID       COMPACT             1.5          4          AV7   \n",
       "3  ACURA     MDX 4WD   SUV - SMALL             3.5          6          AS6   \n",
       "4  ACURA     RDX AWD   SUV - SMALL             3.5          6          AS6   \n",
       "\n",
       "  Fuel Type  Fuel Consumption City (L/100 km)  \\\n",
       "0         Z                               9.9   \n",
       "1         Z                              11.2   \n",
       "2         Z                               6.0   \n",
       "3         Z                              12.7   \n",
       "4         Z                              12.1   \n",
       "\n",
       "   Fuel Consumption Hwy (L/100 km)  Fuel Consumption Comb (L/100 km)  \\\n",
       "0                              6.7                               8.5   \n",
       "1                              7.7                               9.6   \n",
       "2                              5.8                               5.9   \n",
       "3                              9.1                              11.1   \n",
       "4                              8.7                              10.6   \n",
       "\n",
       "   Fuel Consumption Comb (mpg)  CO2 Emissions(g/km)  \n",
       "0                           33                  196  \n",
       "1                           29                  221  \n",
       "2                           48                  136  \n",
       "3                           25                  255  \n",
       "4                           27                  244  "
      ]
     },
     "execution_count": 6,
     "metadata": {
     },
     "output_type": "execute_result"
    }
   ],
   "source": [
    "df.head()"
   ]
  },
  {
   "cell_type": "code",
   "execution_count": 7,
   "metadata": {
    "collapsed": false
   },
   "outputs": [
    {
     "name": "stdout",
     "output_type": "stream",
     "text": [
      "<class 'pandas.core.frame.DataFrame'>\n",
      "RangeIndex: 7385 entries, 0 to 7384\n",
      "Data columns (total 12 columns):\n",
      " #   Column                            Non-Null Count  Dtype  \n",
      "---  ------                            --------------  -----  \n",
      " 0   Make                              7385 non-null   object \n",
      " 1   Model                             7385 non-null   object \n",
      " 2   Vehicle Class                     7385 non-null   object \n",
      " 3   Engine Size(L)                    7385 non-null   float64\n",
      " 4   Cylinders                         7385 non-null   int64  \n",
      " 5   Transmission                      7385 non-null   object \n",
      " 6   Fuel Type                         7385 non-null   object \n",
      " 7   Fuel Consumption City (L/100 km)  7385 non-null   float64\n",
      " 8   Fuel Consumption Hwy (L/100 km)   7385 non-null   float64\n",
      " 9   Fuel Consumption Comb (L/100 km)  7385 non-null   float64\n",
      " 10  Fuel Consumption Comb (mpg)       7385 non-null   int64  \n",
      " 11  CO2 Emissions(g/km)               7385 non-null   int64  \n",
      "dtypes: float64(4), int64(3), object(5)\n",
      "memory usage: 692.5+ KB\n"
     ]
    }
   ],
   "source": [
    "df.info()"
   ]
  },
  {
   "cell_type": "code",
   "execution_count": 9,
   "metadata": {
    "collapsed": false
   },
   "outputs": [
    {
     "data": {
      "text/html": [
       "<div>\n",
       "<style scoped>\n",
       "    .dataframe tbody tr th:only-of-type {\n",
       "        vertical-align: middle;\n",
       "    }\n",
       "\n",
       "    .dataframe tbody tr th {\n",
       "        vertical-align: top;\n",
       "    }\n",
       "\n",
       "    .dataframe thead th {\n",
       "        text-align: right;\n",
       "    }\n",
       "</style>\n",
       "<table border=\"1\" class=\"dataframe\">\n",
       "  <thead>\n",
       "    <tr style=\"text-align: right;\">\n",
       "      <th></th>\n",
       "      <th>Engine Size(L)</th>\n",
       "      <th>Cylinders</th>\n",
       "      <th>Fuel Consumption City (L/100 km)</th>\n",
       "      <th>Fuel Consumption Hwy (L/100 km)</th>\n",
       "      <th>Fuel Consumption Comb (L/100 km)</th>\n",
       "      <th>Fuel Consumption Comb (mpg)</th>\n",
       "      <th>CO2 Emissions(g/km)</th>\n",
       "    </tr>\n",
       "  </thead>\n",
       "  <tbody>\n",
       "    <tr>\n",
       "      <th>count</th>\n",
       "      <td>7385.000000</td>\n",
       "      <td>7385.000000</td>\n",
       "      <td>7385.000000</td>\n",
       "      <td>7385.000000</td>\n",
       "      <td>7385.000000</td>\n",
       "      <td>7385.000000</td>\n",
       "      <td>7385.000000</td>\n",
       "    </tr>\n",
       "    <tr>\n",
       "      <th>mean</th>\n",
       "      <td>3.160068</td>\n",
       "      <td>5.615030</td>\n",
       "      <td>12.556534</td>\n",
       "      <td>9.041706</td>\n",
       "      <td>10.975071</td>\n",
       "      <td>27.481652</td>\n",
       "      <td>250.584699</td>\n",
       "    </tr>\n",
       "    <tr>\n",
       "      <th>std</th>\n",
       "      <td>1.354170</td>\n",
       "      <td>1.828307</td>\n",
       "      <td>3.500274</td>\n",
       "      <td>2.224456</td>\n",
       "      <td>2.892506</td>\n",
       "      <td>7.231879</td>\n",
       "      <td>58.512679</td>\n",
       "    </tr>\n",
       "    <tr>\n",
       "      <th>min</th>\n",
       "      <td>0.900000</td>\n",
       "      <td>3.000000</td>\n",
       "      <td>4.200000</td>\n",
       "      <td>4.000000</td>\n",
       "      <td>4.100000</td>\n",
       "      <td>11.000000</td>\n",
       "      <td>96.000000</td>\n",
       "    </tr>\n",
       "    <tr>\n",
       "      <th>25%</th>\n",
       "      <td>2.000000</td>\n",
       "      <td>4.000000</td>\n",
       "      <td>10.100000</td>\n",
       "      <td>7.500000</td>\n",
       "      <td>8.900000</td>\n",
       "      <td>22.000000</td>\n",
       "      <td>208.000000</td>\n",
       "    </tr>\n",
       "    <tr>\n",
       "      <th>50%</th>\n",
       "      <td>3.000000</td>\n",
       "      <td>6.000000</td>\n",
       "      <td>12.100000</td>\n",
       "      <td>8.700000</td>\n",
       "      <td>10.600000</td>\n",
       "      <td>27.000000</td>\n",
       "      <td>246.000000</td>\n",
       "    </tr>\n",
       "    <tr>\n",
       "      <th>75%</th>\n",
       "      <td>3.700000</td>\n",
       "      <td>6.000000</td>\n",
       "      <td>14.600000</td>\n",
       "      <td>10.200000</td>\n",
       "      <td>12.600000</td>\n",
       "      <td>32.000000</td>\n",
       "      <td>288.000000</td>\n",
       "    </tr>\n",
       "    <tr>\n",
       "      <th>max</th>\n",
       "      <td>8.400000</td>\n",
       "      <td>16.000000</td>\n",
       "      <td>30.600000</td>\n",
       "      <td>20.600000</td>\n",
       "      <td>26.100000</td>\n",
       "      <td>69.000000</td>\n",
       "      <td>522.000000</td>\n",
       "    </tr>\n",
       "  </tbody>\n",
       "</table>\n",
       "</div>"
      ],
      "text/plain": [
       "       Engine Size(L)    Cylinders  Fuel Consumption City (L/100 km)  \\\n",
       "count     7385.000000  7385.000000                       7385.000000   \n",
       "mean         3.160068     5.615030                         12.556534   \n",
       "std          1.354170     1.828307                          3.500274   \n",
       "min          0.900000     3.000000                          4.200000   \n",
       "25%          2.000000     4.000000                         10.100000   \n",
       "50%          3.000000     6.000000                         12.100000   \n",
       "75%          3.700000     6.000000                         14.600000   \n",
       "max          8.400000    16.000000                         30.600000   \n",
       "\n",
       "       Fuel Consumption Hwy (L/100 km)  Fuel Consumption Comb (L/100 km)  \\\n",
       "count                      7385.000000                       7385.000000   \n",
       "mean                          9.041706                         10.975071   \n",
       "std                           2.224456                          2.892506   \n",
       "min                           4.000000                          4.100000   \n",
       "25%                           7.500000                          8.900000   \n",
       "50%                           8.700000                         10.600000   \n",
       "75%                          10.200000                         12.600000   \n",
       "max                          20.600000                         26.100000   \n",
       "\n",
       "       Fuel Consumption Comb (mpg)  CO2 Emissions(g/km)  \n",
       "count                  7385.000000          7385.000000  \n",
       "mean                     27.481652           250.584699  \n",
       "std                       7.231879            58.512679  \n",
       "min                      11.000000            96.000000  \n",
       "25%                      22.000000           208.000000  \n",
       "50%                      27.000000           246.000000  \n",
       "75%                      32.000000           288.000000  \n",
       "max                      69.000000           522.000000  "
      ]
     },
     "execution_count": 9,
     "metadata": {
     },
     "output_type": "execute_result"
    }
   ],
   "source": [
    "df.describe()"
   ]
  },
  {
   "cell_type": "code",
   "execution_count": 0,
   "metadata": {
    "collapsed": false
   },
   "outputs": [
   ],
   "source": [
    "# Check null values"
   ]
  },
  {
   "cell_type": "code",
   "execution_count": 8,
   "metadata": {
    "collapsed": false
   },
   "outputs": [
    {
     "data": {
      "text/plain": [
       "Make                                0\n",
       "Model                               0\n",
       "Vehicle Class                       0\n",
       "Engine Size(L)                      0\n",
       "Cylinders                           0\n",
       "Transmission                        0\n",
       "Fuel Type                           0\n",
       "Fuel Consumption City (L/100 km)    0\n",
       "Fuel Consumption Hwy (L/100 km)     0\n",
       "Fuel Consumption Comb (L/100 km)    0\n",
       "Fuel Consumption Comb (mpg)         0\n",
       "CO2 Emissions(g/km)                 0\n",
       "dtype: int64"
      ]
     },
     "execution_count": 8,
     "metadata": {
     },
     "output_type": "execute_result"
    }
   ],
   "source": [
    "df.isnull().sum()"
   ]
  },
  {
   "cell_type": "code",
   "execution_count": 0,
   "metadata": {
    "collapsed": false
   },
   "outputs": [
   ],
   "source": [
   ]
  },
  {
   "cell_type": "code",
   "execution_count": 0,
   "metadata": {
    "collapsed": false
   },
   "outputs": [
   ],
   "source": [
   ]
  },
  {
   "cell_type": "markdown",
   "metadata": {
    "collapsed": false
   },
   "source": [
    "### Exploratory Data Analysis"
   ]
  },
  {
   "cell_type": "code",
   "execution_count": 0,
   "metadata": {
    "collapsed": false
   },
   "outputs": [
   ],
   "source": [
    "# create plots for your data to understand the trend of data :D"
   ]
  },
  {
   "cell_type": "code",
   "execution_count": 0,
   "metadata": {
    "collapsed": false
   },
   "outputs": [
   ],
   "source": [
   ]
  },
  {
   "cell_type": "code",
   "execution_count": 0,
   "metadata": {
    "collapsed": false
   },
   "outputs": [
   ],
   "source": [
   ]
  },
  {
   "cell_type": "code",
   "execution_count": 0,
   "metadata": {
    "collapsed": false
   },
   "outputs": [
   ],
   "source": [
   ]
  },
  {
   "cell_type": "code",
   "execution_count": 0,
   "metadata": {
    "collapsed": false
   },
   "outputs": [
   ],
   "source": [
   ]
  },
  {
   "cell_type": "code",
   "execution_count": 0,
   "metadata": {
    "collapsed": false
   },
   "outputs": [
   ],
   "source": [
   ]
  },
  {
   "cell_type": "markdown",
   "metadata": {
    "collapsed": false
   },
   "source": [
    "### Data Cleaning"
   ]
  },
  {
   "cell_type": "code",
   "execution_count": 0,
   "metadata": {
    "collapsed": false
   },
   "outputs": [
   ],
   "source": [
    "# handle missing data or convert categorical data into dummy variables"
   ]
  },
  {
   "cell_type": "code",
   "execution_count": 0,
   "metadata": {
    "collapsed": false
   },
   "outputs": [
   ],
   "source": [
   ]
  },
  {
   "cell_type": "code",
   "execution_count": 0,
   "metadata": {
    "collapsed": false
   },
   "outputs": [
   ],
   "source": [
   ]
  },
  {
   "cell_type": "code",
   "execution_count": 0,
   "metadata": {
    "collapsed": false
   },
   "outputs": [
   ],
   "source": [
   ]
  },
  {
   "cell_type": "code",
   "execution_count": 0,
   "metadata": {
    "collapsed": false
   },
   "outputs": [
   ],
   "source": [
   ]
  },
  {
   "cell_type": "code",
   "execution_count": 0,
   "metadata": {
    "collapsed": false
   },
   "outputs": [
   ],
   "source": [
   ]
  },
  {
   "cell_type": "code",
   "execution_count": 0,
   "metadata": {
    "collapsed": false
   },
   "outputs": [
   ],
   "source": [
   ]
  },
  {
   "cell_type": "code",
   "execution_count": 0,
   "metadata": {
    "collapsed": false
   },
   "outputs": [
   ],
   "source": [
   ]
  },
  {
   "cell_type": "code",
   "execution_count": 0,
   "metadata": {
    "collapsed": false
   },
   "outputs": [
   ],
   "source": [
   ]
  }
 ],
 "metadata": {
  "kernelspec": {
   "display_name": "Python (elastic-searchers)",
   "language": "python",
   "metadata": {
    "debugger": true
   },
   "name": "elastic-searchers",
   "resource_dir": "/projects/7c08c135-501d-4a5d-8ef1-fb9399dd6cfe/.local/share/jupyter/kernels/elastic-searchers"
  },
  "language_info": {
   "codemirror_mode": {
    "name": "ipython",
    "version": 3
   },
   "file_extension": ".py",
   "mimetype": "text/x-python",
   "name": "python",
   "nbconvert_exporter": "python",
   "pygments_lexer": "ipython3",
   "version": "3.9.12"
  }
 },
 "nbformat": 4,
 "nbformat_minor": 4
}