{
 "cells": [
  {
   "cell_type": "markdown",
   "metadata": {
    "collapsed": false,
    "id": "R9tvKItivlxp"
   },
   "source": [
    "# Who is ready to learn? (Our Machines Are!)\n",
    "\n",
    "Our task at hand -- building an AI that can save lives.\n",
    "\n",
    "Today we are going to work to create an AI that can predict whether a breast cancer tumor is benign or malignant. This diagnosis has incredibly important medical implications for those who are diagnosed with breast cancer. \n",
    "\n",
    "Before we get started, you should make sure you know what the difference between benign and malignant tumors are and discuss them with your team.\n",
    "\n",
    "**Hint:** we recommend you heavily refer to your EDA mini project from last week for this activity! "
   ]
  },
  {
   "cell_type": "markdown",
   "metadata": {
    "collapsed": false,
    "id": "m-qQYrLDw0EN"
   },
   "source": [
    "### Step 1: Imports and Preprocessing\n",
    "\n",
    "We need to `import pandas as pd` and read in our data. It is currently a .csv (comma-separated value) file, and we generally use the pd.read_csv() function from pandas to read our data into a dataframe."
   ]
  },
  {
   "cell_type": "code",
   "execution_count": 1,
   "metadata": {
    "collapsed": false,
    "id": "f0O0Zg5xvX1N"
   },
   "outputs": [
   ],
   "source": [
    "import pandas as pd\n",
    "import numpy as np"
   ]
  },
  {
   "cell_type": "code",
   "execution_count": 2,
   "metadata": {
    "collapsed": false,
    "id": "BvK5i4DcvcTg"
   },
   "outputs": [
   ],
   "source": [
    "breast_cancer = pd.read_csv(\"https://raw.githubusercontent.com/pkmklong/Breast-Cancer-Wisconsin-Diagnostic-DataSet/master/data.csv\")"
   ]
  },
  {
   "cell_type": "markdown",
   "metadata": {
    "collapsed": false,
    "id": "rdwjqFR8xdE2"
   },
   "source": [
    "**TODO:** Do you remember how to print the first five rows of a pandas dataframe? How about all of the columns? How about the number of rows? Please do that below and google anything you are unsure about. "
   ]
  },
  {
   "cell_type": "code",
   "execution_count": 3,
   "metadata": {
    "collapsed": false,
    "id": "B5QnmTysxcJT"
   },
   "outputs": [
    {
     "data": {
      "text/html": [
       "<div>\n",
       "<style scoped>\n",
       "    .dataframe tbody tr th:only-of-type {\n",
       "        vertical-align: middle;\n",
       "    }\n",
       "\n",
       "    .dataframe tbody tr th {\n",
       "        vertical-align: top;\n",
       "    }\n",
       "\n",
       "    .dataframe thead th {\n",
       "        text-align: right;\n",
       "    }\n",
       "</style>\n",
       "<table border=\"1\" class=\"dataframe\">\n",
       "  <thead>\n",
       "    <tr style=\"text-align: right;\">\n",
       "      <th></th>\n",
       "      <th>id</th>\n",
       "      <th>diagnosis</th>\n",
       "      <th>radius_mean</th>\n",
       "      <th>texture_mean</th>\n",
       "      <th>perimeter_mean</th>\n",
       "      <th>area_mean</th>\n",
       "      <th>smoothness_mean</th>\n",
       "      <th>compactness_mean</th>\n",
       "      <th>concavity_mean</th>\n",
       "      <th>concave points_mean</th>\n",
       "      <th>...</th>\n",
       "      <th>texture_worst</th>\n",
       "      <th>perimeter_worst</th>\n",
       "      <th>area_worst</th>\n",
       "      <th>smoothness_worst</th>\n",
       "      <th>compactness_worst</th>\n",
       "      <th>concavity_worst</th>\n",
       "      <th>concave points_worst</th>\n",
       "      <th>symmetry_worst</th>\n",
       "      <th>fractal_dimension_worst</th>\n",
       "      <th>Unnamed: 32</th>\n",
       "    </tr>\n",
       "  </thead>\n",
       "  <tbody>\n",
       "    <tr>\n",
       "      <th>0</th>\n",
       "      <td>842302</td>\n",
       "      <td>M</td>\n",
       "      <td>17.99</td>\n",
       "      <td>10.38</td>\n",
       "      <td>122.80</td>\n",
       "      <td>1001.0</td>\n",
       "      <td>0.11840</td>\n",
       "      <td>0.27760</td>\n",
       "      <td>0.3001</td>\n",
       "      <td>0.14710</td>\n",
       "      <td>...</td>\n",
       "      <td>17.33</td>\n",
       "      <td>184.60</td>\n",
       "      <td>2019.0</td>\n",
       "      <td>0.1622</td>\n",
       "      <td>0.6656</td>\n",
       "      <td>0.7119</td>\n",
       "      <td>0.2654</td>\n",
       "      <td>0.4601</td>\n",
       "      <td>0.11890</td>\n",
       "      <td>NaN</td>\n",
       "    </tr>\n",
       "    <tr>\n",
       "      <th>1</th>\n",
       "      <td>842517</td>\n",
       "      <td>M</td>\n",
       "      <td>20.57</td>\n",
       "      <td>17.77</td>\n",
       "      <td>132.90</td>\n",
       "      <td>1326.0</td>\n",
       "      <td>0.08474</td>\n",
       "      <td>0.07864</td>\n",
       "      <td>0.0869</td>\n",
       "      <td>0.07017</td>\n",
       "      <td>...</td>\n",
       "      <td>23.41</td>\n",
       "      <td>158.80</td>\n",
       "      <td>1956.0</td>\n",
       "      <td>0.1238</td>\n",
       "      <td>0.1866</td>\n",
       "      <td>0.2416</td>\n",
       "      <td>0.1860</td>\n",
       "      <td>0.2750</td>\n",
       "      <td>0.08902</td>\n",
       "      <td>NaN</td>\n",
       "    </tr>\n",
       "    <tr>\n",
       "      <th>2</th>\n",
       "      <td>84300903</td>\n",
       "      <td>M</td>\n",
       "      <td>19.69</td>\n",
       "      <td>21.25</td>\n",
       "      <td>130.00</td>\n",
       "      <td>1203.0</td>\n",
       "      <td>0.10960</td>\n",
       "      <td>0.15990</td>\n",
       "      <td>0.1974</td>\n",
       "      <td>0.12790</td>\n",
       "      <td>...</td>\n",
       "      <td>25.53</td>\n",
       "      <td>152.50</td>\n",
       "      <td>1709.0</td>\n",
       "      <td>0.1444</td>\n",
       "      <td>0.4245</td>\n",
       "      <td>0.4504</td>\n",
       "      <td>0.2430</td>\n",
       "      <td>0.3613</td>\n",
       "      <td>0.08758</td>\n",
       "      <td>NaN</td>\n",
       "    </tr>\n",
       "    <tr>\n",
       "      <th>3</th>\n",
       "      <td>84348301</td>\n",
       "      <td>M</td>\n",
       "      <td>11.42</td>\n",
       "      <td>20.38</td>\n",
       "      <td>77.58</td>\n",
       "      <td>386.1</td>\n",
       "      <td>0.14250</td>\n",
       "      <td>0.28390</td>\n",
       "      <td>0.2414</td>\n",
       "      <td>0.10520</td>\n",
       "      <td>...</td>\n",
       "      <td>26.50</td>\n",
       "      <td>98.87</td>\n",
       "      <td>567.7</td>\n",
       "      <td>0.2098</td>\n",
       "      <td>0.8663</td>\n",
       "      <td>0.6869</td>\n",
       "      <td>0.2575</td>\n",
       "      <td>0.6638</td>\n",
       "      <td>0.17300</td>\n",
       "      <td>NaN</td>\n",
       "    </tr>\n",
       "    <tr>\n",
       "      <th>4</th>\n",
       "      <td>84358402</td>\n",
       "      <td>M</td>\n",
       "      <td>20.29</td>\n",
       "      <td>14.34</td>\n",
       "      <td>135.10</td>\n",
       "      <td>1297.0</td>\n",
       "      <td>0.10030</td>\n",
       "      <td>0.13280</td>\n",
       "      <td>0.1980</td>\n",
       "      <td>0.10430</td>\n",
       "      <td>...</td>\n",
       "      <td>16.67</td>\n",
       "      <td>152.20</td>\n",
       "      <td>1575.0</td>\n",
       "      <td>0.1374</td>\n",
       "      <td>0.2050</td>\n",
       "      <td>0.4000</td>\n",
       "      <td>0.1625</td>\n",
       "      <td>0.2364</td>\n",
       "      <td>0.07678</td>\n",
       "      <td>NaN</td>\n",
       "    </tr>\n",
       "  </tbody>\n",
       "</table>\n",
       "<p>5 rows × 33 columns</p>\n",
       "</div>"
      ],
      "text/plain": [
       "         id diagnosis  radius_mean  texture_mean  perimeter_mean  area_mean  \\\n",
       "0    842302         M        17.99         10.38          122.80     1001.0   \n",
       "1    842517         M        20.57         17.77          132.90     1326.0   \n",
       "2  84300903         M        19.69         21.25          130.00     1203.0   \n",
       "3  84348301         M        11.42         20.38           77.58      386.1   \n",
       "4  84358402         M        20.29         14.34          135.10     1297.0   \n",
       "\n",
       "   smoothness_mean  compactness_mean  concavity_mean  concave points_mean  \\\n",
       "0          0.11840           0.27760          0.3001              0.14710   \n",
       "1          0.08474           0.07864          0.0869              0.07017   \n",
       "2          0.10960           0.15990          0.1974              0.12790   \n",
       "3          0.14250           0.28390          0.2414              0.10520   \n",
       "4          0.10030           0.13280          0.1980              0.10430   \n",
       "\n",
       "   ...  texture_worst  perimeter_worst  area_worst  smoothness_worst  \\\n",
       "0  ...          17.33           184.60      2019.0            0.1622   \n",
       "1  ...          23.41           158.80      1956.0            0.1238   \n",
       "2  ...          25.53           152.50      1709.0            0.1444   \n",
       "3  ...          26.50            98.87       567.7            0.2098   \n",
       "4  ...          16.67           152.20      1575.0            0.1374   \n",
       "\n",
       "   compactness_worst  concavity_worst  concave points_worst  symmetry_worst  \\\n",
       "0             0.6656           0.7119                0.2654          0.4601   \n",
       "1             0.1866           0.2416                0.1860          0.2750   \n",
       "2             0.4245           0.4504                0.2430          0.3613   \n",
       "3             0.8663           0.6869                0.2575          0.6638   \n",
       "4             0.2050           0.4000                0.1625          0.2364   \n",
       "\n",
       "   fractal_dimension_worst  Unnamed: 32  \n",
       "0                  0.11890          NaN  \n",
       "1                  0.08902          NaN  \n",
       "2                  0.08758          NaN  \n",
       "3                  0.17300          NaN  \n",
       "4                  0.07678          NaN  \n",
       "\n",
       "[5 rows x 33 columns]"
      ]
     },
     "execution_count": 3,
     "metadata": {
     },
     "output_type": "execute_result"
    }
   ],
   "source": [
    "# print first five rows of breast_cancer\n",
    "breast_cancer.head()"
   ]
  },
  {
   "cell_type": "code",
   "execution_count": 5,
   "metadata": {
    "collapsed": false,
    "id": "qQ5KjWIMwGaP"
   },
   "outputs": [
    {
     "data": {
      "text/plain": [
       "Index(['id', 'diagnosis', 'radius_mean', 'texture_mean', 'perimeter_mean',\n",
       "       'area_mean', 'smoothness_mean', 'compactness_mean', 'concavity_mean',\n",
       "       'concave points_mean', 'symmetry_mean', 'fractal_dimension_mean',\n",
       "       'radius_se', 'texture_se', 'perimeter_se', 'area_se', 'smoothness_se',\n",
       "       'compactness_se', 'concavity_se', 'concave points_se', 'symmetry_se',\n",
       "       'fractal_dimension_se', 'radius_worst', 'texture_worst',\n",
       "       'perimeter_worst', 'area_worst', 'smoothness_worst',\n",
       "       'compactness_worst', 'concavity_worst', 'concave points_worst',\n",
       "       'symmetry_worst', 'fractal_dimension_worst', 'Unnamed: 32'],\n",
       "      dtype='object')"
      ]
     },
     "execution_count": 5,
     "metadata": {
     },
     "output_type": "execute_result"
    }
   ],
   "source": [
    "# print columns of breast_cancer\n",
    "breast_cancer.columns"
   ]
  },
  {
   "cell_type": "code",
   "execution_count": 6,
   "metadata": {
    "collapsed": false,
    "id": "LxELBWOdxsrl"
   },
   "outputs": [
    {
     "data": {
      "text/plain": [
       "id                         569\n",
       "diagnosis                  569\n",
       "radius_mean                569\n",
       "texture_mean               569\n",
       "perimeter_mean             569\n",
       "area_mean                  569\n",
       "smoothness_mean            569\n",
       "compactness_mean           569\n",
       "concavity_mean             569\n",
       "concave points_mean        569\n",
       "symmetry_mean              569\n",
       "fractal_dimension_mean     569\n",
       "radius_se                  569\n",
       "texture_se                 569\n",
       "perimeter_se               569\n",
       "area_se                    569\n",
       "smoothness_se              569\n",
       "compactness_se             569\n",
       "concavity_se               569\n",
       "concave points_se          569\n",
       "symmetry_se                569\n",
       "fractal_dimension_se       569\n",
       "radius_worst               569\n",
       "texture_worst              569\n",
       "perimeter_worst            569\n",
       "area_worst                 569\n",
       "smoothness_worst           569\n",
       "compactness_worst          569\n",
       "concavity_worst            569\n",
       "concave points_worst       569\n",
       "symmetry_worst             569\n",
       "fractal_dimension_worst    569\n",
       "Unnamed: 32                  0\n",
       "dtype: int64"
      ]
     },
     "execution_count": 6,
     "metadata": {
     },
     "output_type": "execute_result"
    }
   ],
   "source": [
    "# print the number of rows in breast_cancer\n",
    "breast_cancer.count()"
   ]
  },
  {
   "cell_type": "code",
   "execution_count": 4,
   "metadata": {
    "collapsed": false,
    "id": "lFnrZickyynD"
   },
   "outputs": [
    {
     "name": "stdout",
     "output_type": "stream",
     "text": [
      "<class 'pandas.core.frame.DataFrame'>\n",
      "RangeIndex: 569 entries, 0 to 568\n",
      "Data columns (total 33 columns):\n",
      " #   Column                   Non-Null Count  Dtype  \n",
      "---  ------                   --------------  -----  \n",
      " 0   id                       569 non-null    int64  \n",
      " 1   diagnosis                569 non-null    object \n",
      " 2   radius_mean              569 non-null    float64\n",
      " 3   texture_mean             569 non-null    float64\n",
      " 4   perimeter_mean           569 non-null    float64\n",
      " 5   area_mean                569 non-null    float64\n",
      " 6   smoothness_mean          569 non-null    float64\n",
      " 7   compactness_mean         569 non-null    float64\n",
      " 8   concavity_mean           569 non-null    float64\n",
      " 9   concave points_mean      569 non-null    float64\n",
      " 10  symmetry_mean            569 non-null    float64\n",
      " 11  fractal_dimension_mean   569 non-null    float64\n",
      " 12  radius_se                569 non-null    float64\n",
      " 13  texture_se               569 non-null    float64\n",
      " 14  perimeter_se             569 non-null    float64\n",
      " 15  area_se                  569 non-null    float64\n",
      " 16  smoothness_se            569 non-null    float64\n",
      " 17  compactness_se           569 non-null    float64\n",
      " 18  concavity_se             569 non-null    float64\n",
      " 19  concave points_se        569 non-null    float64\n",
      " 20  symmetry_se              569 non-null    float64\n",
      " 21  fractal_dimension_se     569 non-null    float64\n",
      " 22  radius_worst             569 non-null    float64\n",
      " 23  texture_worst            569 non-null    float64\n",
      " 24  perimeter_worst          569 non-null    float64\n",
      " 25  area_worst               569 non-null    float64\n",
      " 26  smoothness_worst         569 non-null    float64\n",
      " 27  compactness_worst        569 non-null    float64\n",
      " 28  concavity_worst          569 non-null    float64\n",
      " 29  concave points_worst     569 non-null    float64\n",
      " 30  symmetry_worst           569 non-null    float64\n",
      " 31  fractal_dimension_worst  569 non-null    float64\n",
      " 32  Unnamed: 32              0 non-null      float64\n",
      "dtypes: float64(31), int64(1), object(1)\n",
      "memory usage: 146.8+ KB\n"
     ]
    }
   ],
   "source": [
    "# explore anything else you are interested in here\n",
    "breast_cancer.info()"
   ]
  },
  {
   "cell_type": "markdown",
   "metadata": {
    "collapsed": false,
    "id": "Q8MwFiBX0Zdu"
   },
   "source": [
    "**TODO:** Can you figure out how many rows are malignant (M) and how many are benign (B)? "
   ]
  },
  {
   "cell_type": "code",
   "execution_count": 9,
   "metadata": {
    "collapsed": false,
    "id": "0tYK-EaL0g8y"
   },
   "outputs": [
    {
     "data": {
      "text/plain": [
       "357"
      ]
     },
     "execution_count": 9,
     "metadata": {
     },
     "output_type": "execute_result"
    }
   ],
   "source": [
    "# Figure out how many rows are malignant and how many are benign. Hint: use the .count() function!\n",
    "breast_cancer[breast_cancer[\"diagnosis\"] == \"M\"].diagnosis.count()\n",
    "breast_cancer[breast_cancer[\"diagnosis\"] == \"B\"].diagnosis.count()"
   ]
  },
  {
   "cell_type": "markdown",
   "metadata": {
    "collapsed": false,
    "id": "XjS_4CFYxx52"
   },
   "source": [
    "### Step 2: Do Your Research\n",
    "\n",
    "That is a ton of columns. That is a ton of data! Where do we start? \n",
    "\n",
    "You should probably do some research on this dataset to find out what the columns mean. I got it on kaggle - you can read about it here: [Wisconsin Breast Cancer Dataset](https://www.kaggle.com/datasets/uciml/breast-cancer-wisconsin-data).\n",
    "\n"
   ]
  },
  {
   "cell_type": "markdown",
   "metadata": {
    "collapsed": false,
    "id": "ujuEOdIYyaV8"
   },
   "source": [
    "### Step 3: Cleaning our data up!\n",
    "\n",
    "Maybe there are some columns we don't need. The last column makes zero sense right? Do we need an id column for our purposes? You should drop **any** columns that you feel are not worth keeping track of. \n",
    "\n",
    "Pandas' `drop()` documentation: https://pandas.pydata.org/docs/reference/api/pandas.DataFrame.drop.html. Remember to use `inplace = True` if you are changing your dataframe and note creating a new one!\n",
    "\n",
    "**Note:** This data is pretty clean! We only need a few lines for this dataset.\n",
    "\n"
   ]
  },
  {
   "cell_type": "code",
   "execution_count": 11,
   "metadata": {
    "collapsed": false,
    "id": "GsTMmM8EzBJ9"
   },
   "outputs": [
   ],
   "source": [
    "# use df.drop to drop Unnamed: 32 and ID, as well as any columns you don't think we should keep track of.\n",
    "breast_cancer.drop(inplace = True, columns=['Unnamed: 32', 'id'])"
   ]
  },
  {
   "cell_type": "code",
   "execution_count": 13,
   "metadata": {
    "collapsed": false,
    "id": "H7H0OTAhzoKQ"
   },
   "outputs": [
   ],
   "source": [
    "# drop any n/a values remaining! Remember inplace!\n",
    "breast_cancer.dropna(inplace = True)"
   ]
  },
  {
   "cell_type": "code",
   "execution_count": 14,
   "metadata": {
    "collapsed": false,
    "id": "tL-d7BNRzz_V"
   },
   "outputs": [
    {
     "data": {
      "text/html": [
       "<div>\n",
       "<style scoped>\n",
       "    .dataframe tbody tr th:only-of-type {\n",
       "        vertical-align: middle;\n",
       "    }\n",
       "\n",
       "    .dataframe tbody tr th {\n",
       "        vertical-align: top;\n",
       "    }\n",
       "\n",
       "    .dataframe thead th {\n",
       "        text-align: right;\n",
       "    }\n",
       "</style>\n",
       "<table border=\"1\" class=\"dataframe\">\n",
       "  <thead>\n",
       "    <tr style=\"text-align: right;\">\n",
       "      <th></th>\n",
       "      <th>diagnosis</th>\n",
       "      <th>radius_mean</th>\n",
       "      <th>texture_mean</th>\n",
       "      <th>perimeter_mean</th>\n",
       "      <th>area_mean</th>\n",
       "      <th>smoothness_mean</th>\n",
       "      <th>compactness_mean</th>\n",
       "      <th>concavity_mean</th>\n",
       "      <th>concave points_mean</th>\n",
       "      <th>symmetry_mean</th>\n",
       "      <th>...</th>\n",
       "      <th>radius_worst</th>\n",
       "      <th>texture_worst</th>\n",
       "      <th>perimeter_worst</th>\n",
       "      <th>area_worst</th>\n",
       "      <th>smoothness_worst</th>\n",
       "      <th>compactness_worst</th>\n",
       "      <th>concavity_worst</th>\n",
       "      <th>concave points_worst</th>\n",
       "      <th>symmetry_worst</th>\n",
       "      <th>fractal_dimension_worst</th>\n",
       "    </tr>\n",
       "  </thead>\n",
       "  <tbody>\n",
       "    <tr>\n",
       "      <th>564</th>\n",
       "      <td>M</td>\n",
       "      <td>21.56</td>\n",
       "      <td>22.39</td>\n",
       "      <td>142.00</td>\n",
       "      <td>1479.0</td>\n",
       "      <td>0.11100</td>\n",
       "      <td>0.11590</td>\n",
       "      <td>0.24390</td>\n",
       "      <td>0.13890</td>\n",
       "      <td>0.1726</td>\n",
       "      <td>...</td>\n",
       "      <td>25.450</td>\n",
       "      <td>26.40</td>\n",
       "      <td>166.10</td>\n",
       "      <td>2027.0</td>\n",
       "      <td>0.14100</td>\n",
       "      <td>0.21130</td>\n",
       "      <td>0.4107</td>\n",
       "      <td>0.2216</td>\n",
       "      <td>0.2060</td>\n",
       "      <td>0.07115</td>\n",
       "    </tr>\n",
       "    <tr>\n",
       "      <th>565</th>\n",
       "      <td>M</td>\n",
       "      <td>20.13</td>\n",
       "      <td>28.25</td>\n",
       "      <td>131.20</td>\n",
       "      <td>1261.0</td>\n",
       "      <td>0.09780</td>\n",
       "      <td>0.10340</td>\n",
       "      <td>0.14400</td>\n",
       "      <td>0.09791</td>\n",
       "      <td>0.1752</td>\n",
       "      <td>...</td>\n",
       "      <td>23.690</td>\n",
       "      <td>38.25</td>\n",
       "      <td>155.00</td>\n",
       "      <td>1731.0</td>\n",
       "      <td>0.11660</td>\n",
       "      <td>0.19220</td>\n",
       "      <td>0.3215</td>\n",
       "      <td>0.1628</td>\n",
       "      <td>0.2572</td>\n",
       "      <td>0.06637</td>\n",
       "    </tr>\n",
       "    <tr>\n",
       "      <th>566</th>\n",
       "      <td>M</td>\n",
       "      <td>16.60</td>\n",
       "      <td>28.08</td>\n",
       "      <td>108.30</td>\n",
       "      <td>858.1</td>\n",
       "      <td>0.08455</td>\n",
       "      <td>0.10230</td>\n",
       "      <td>0.09251</td>\n",
       "      <td>0.05302</td>\n",
       "      <td>0.1590</td>\n",
       "      <td>...</td>\n",
       "      <td>18.980</td>\n",
       "      <td>34.12</td>\n",
       "      <td>126.70</td>\n",
       "      <td>1124.0</td>\n",
       "      <td>0.11390</td>\n",
       "      <td>0.30940</td>\n",
       "      <td>0.3403</td>\n",
       "      <td>0.1418</td>\n",
       "      <td>0.2218</td>\n",
       "      <td>0.07820</td>\n",
       "    </tr>\n",
       "    <tr>\n",
       "      <th>567</th>\n",
       "      <td>M</td>\n",
       "      <td>20.60</td>\n",
       "      <td>29.33</td>\n",
       "      <td>140.10</td>\n",
       "      <td>1265.0</td>\n",
       "      <td>0.11780</td>\n",
       "      <td>0.27700</td>\n",
       "      <td>0.35140</td>\n",
       "      <td>0.15200</td>\n",
       "      <td>0.2397</td>\n",
       "      <td>...</td>\n",
       "      <td>25.740</td>\n",
       "      <td>39.42</td>\n",
       "      <td>184.60</td>\n",
       "      <td>1821.0</td>\n",
       "      <td>0.16500</td>\n",
       "      <td>0.86810</td>\n",
       "      <td>0.9387</td>\n",
       "      <td>0.2650</td>\n",
       "      <td>0.4087</td>\n",
       "      <td>0.12400</td>\n",
       "    </tr>\n",
       "    <tr>\n",
       "      <th>568</th>\n",
       "      <td>B</td>\n",
       "      <td>7.76</td>\n",
       "      <td>24.54</td>\n",
       "      <td>47.92</td>\n",
       "      <td>181.0</td>\n",
       "      <td>0.05263</td>\n",
       "      <td>0.04362</td>\n",
       "      <td>0.00000</td>\n",
       "      <td>0.00000</td>\n",
       "      <td>0.1587</td>\n",
       "      <td>...</td>\n",
       "      <td>9.456</td>\n",
       "      <td>30.37</td>\n",
       "      <td>59.16</td>\n",
       "      <td>268.6</td>\n",
       "      <td>0.08996</td>\n",
       "      <td>0.06444</td>\n",
       "      <td>0.0000</td>\n",
       "      <td>0.0000</td>\n",
       "      <td>0.2871</td>\n",
       "      <td>0.07039</td>\n",
       "    </tr>\n",
       "  </tbody>\n",
       "</table>\n",
       "<p>5 rows × 31 columns</p>\n",
       "</div>"
      ],
      "text/plain": [
       "    diagnosis  radius_mean  texture_mean  perimeter_mean  area_mean  \\\n",
       "564         M        21.56         22.39          142.00     1479.0   \n",
       "565         M        20.13         28.25          131.20     1261.0   \n",
       "566         M        16.60         28.08          108.30      858.1   \n",
       "567         M        20.60         29.33          140.10     1265.0   \n",
       "568         B         7.76         24.54           47.92      181.0   \n",
       "\n",
       "     smoothness_mean  compactness_mean  concavity_mean  concave points_mean  \\\n",
       "564          0.11100           0.11590         0.24390              0.13890   \n",
       "565          0.09780           0.10340         0.14400              0.09791   \n",
       "566          0.08455           0.10230         0.09251              0.05302   \n",
       "567          0.11780           0.27700         0.35140              0.15200   \n",
       "568          0.05263           0.04362         0.00000              0.00000   \n",
       "\n",
       "     symmetry_mean  ...  radius_worst  texture_worst  perimeter_worst  \\\n",
       "564         0.1726  ...        25.450          26.40           166.10   \n",
       "565         0.1752  ...        23.690          38.25           155.00   \n",
       "566         0.1590  ...        18.980          34.12           126.70   \n",
       "567         0.2397  ...        25.740          39.42           184.60   \n",
       "568         0.1587  ...         9.456          30.37            59.16   \n",
       "\n",
       "     area_worst  smoothness_worst  compactness_worst  concavity_worst  \\\n",
       "564      2027.0           0.14100            0.21130           0.4107   \n",
       "565      1731.0           0.11660            0.19220           0.3215   \n",
       "566      1124.0           0.11390            0.30940           0.3403   \n",
       "567      1821.0           0.16500            0.86810           0.9387   \n",
       "568       268.6           0.08996            0.06444           0.0000   \n",
       "\n",
       "     concave points_worst  symmetry_worst  fractal_dimension_worst  \n",
       "564                0.2216          0.2060                  0.07115  \n",
       "565                0.1628          0.2572                  0.06637  \n",
       "566                0.1418          0.2218                  0.07820  \n",
       "567                0.2650          0.4087                  0.12400  \n",
       "568                0.0000          0.2871                  0.07039  \n",
       "\n",
       "[5 rows x 31 columns]"
      ]
     },
     "execution_count": 14,
     "metadata": {
     },
     "output_type": "execute_result"
    }
   ],
   "source": [
    "# print the last five rows of your dataframe \n",
    "breast_cancer.tail()"
   ]
  },
  {
   "cell_type": "markdown",
   "metadata": {
    "collapsed": false,
    "id": "X1yX_YUAz8ti"
   },
   "source": [
    "**TODO:** at this point, all of our data should be numeric except for our diagnosis column. This is because supervised machine learning models work off of numerical data. Use breast_cancer.info() below to check that all our data besides 'diagnosis' are numeric."
   ]
  },
  {
   "cell_type": "code",
   "execution_count": 15,
   "metadata": {
    "collapsed": false,
    "id": "gAPOpEtcz7U2"
   },
   "outputs": [
    {
     "name": "stdout",
     "output_type": "stream",
     "text": [
      "<class 'pandas.core.frame.DataFrame'>\n",
      "RangeIndex: 569 entries, 0 to 568\n",
      "Data columns (total 31 columns):\n",
      " #   Column                   Non-Null Count  Dtype  \n",
      "---  ------                   --------------  -----  \n",
      " 0   diagnosis                569 non-null    object \n",
      " 1   radius_mean              569 non-null    float64\n",
      " 2   texture_mean             569 non-null    float64\n",
      " 3   perimeter_mean           569 non-null    float64\n",
      " 4   area_mean                569 non-null    float64\n",
      " 5   smoothness_mean          569 non-null    float64\n",
      " 6   compactness_mean         569 non-null    float64\n",
      " 7   concavity_mean           569 non-null    float64\n",
      " 8   concave points_mean      569 non-null    float64\n",
      " 9   symmetry_mean            569 non-null    float64\n",
      " 10  fractal_dimension_mean   569 non-null    float64\n",
      " 11  radius_se                569 non-null    float64\n",
      " 12  texture_se               569 non-null    float64\n",
      " 13  perimeter_se             569 non-null    float64\n",
      " 14  area_se                  569 non-null    float64\n",
      " 15  smoothness_se            569 non-null    float64\n",
      " 16  compactness_se           569 non-null    float64\n",
      " 17  concavity_se             569 non-null    float64\n",
      " 18  concave points_se        569 non-null    float64\n",
      " 19  symmetry_se              569 non-null    float64\n",
      " 20  fractal_dimension_se     569 non-null    float64\n",
      " 21  radius_worst             569 non-null    float64\n",
      " 22  texture_worst            569 non-null    float64\n",
      " 23  perimeter_worst          569 non-null    float64\n",
      " 24  area_worst               569 non-null    float64\n",
      " 25  smoothness_worst         569 non-null    float64\n",
      " 26  compactness_worst        569 non-null    float64\n",
      " 27  concavity_worst          569 non-null    float64\n",
      " 28  concave points_worst     569 non-null    float64\n",
      " 29  symmetry_worst           569 non-null    float64\n",
      " 30  fractal_dimension_worst  569 non-null    float64\n",
      "dtypes: float64(30), object(1)\n",
      "memory usage: 137.9+ KB\n"
     ]
    }
   ],
   "source": [
    "# Run breast_cancer.info()\n",
    "breast_cancer.info()"
   ]
  },
  {
   "cell_type": "markdown",
   "metadata": {
    "collapsed": false,
    "id": "c4ocJucC3-p2"
   },
   "source": [
    "### Dummy Variables - Preprocessing\n",
    "Our target variable (the variable we are trying to predict) is `diagnosis`. Our only problem is that the diagnosis variable will either be an 'M' or a 'B', which is not something our model will understand. We need to change our M's to 1's and B's to 0's so that our model can think like computers do -- using numbers!  \n",
    "\n",
    "To do so, we use something called a dummy variable. I'll show you how to do so below. "
   ]
  },
  {
   "cell_type": "code",
   "execution_count": 16,
   "metadata": {
    "collapsed": false,
    "id": "k2w_QD0e3-WY"
   },
   "outputs": [
    {
     "data": {
      "text/html": [
       "<div>\n",
       "<style scoped>\n",
       "    .dataframe tbody tr th:only-of-type {\n",
       "        vertical-align: middle;\n",
       "    }\n",
       "\n",
       "    .dataframe tbody tr th {\n",
       "        vertical-align: top;\n",
       "    }\n",
       "\n",
       "    .dataframe thead th {\n",
       "        text-align: right;\n",
       "    }\n",
       "</style>\n",
       "<table border=\"1\" class=\"dataframe\">\n",
       "  <thead>\n",
       "    <tr style=\"text-align: right;\">\n",
       "      <th></th>\n",
       "      <th>B</th>\n",
       "      <th>M</th>\n",
       "    </tr>\n",
       "  </thead>\n",
       "  <tbody>\n",
       "    <tr>\n",
       "      <th>0</th>\n",
       "      <td>0</td>\n",
       "      <td>1</td>\n",
       "    </tr>\n",
       "    <tr>\n",
       "      <th>1</th>\n",
       "      <td>0</td>\n",
       "      <td>1</td>\n",
       "    </tr>\n",
       "    <tr>\n",
       "      <th>2</th>\n",
       "      <td>0</td>\n",
       "      <td>1</td>\n",
       "    </tr>\n",
       "    <tr>\n",
       "      <th>3</th>\n",
       "      <td>0</td>\n",
       "      <td>1</td>\n",
       "    </tr>\n",
       "    <tr>\n",
       "      <th>4</th>\n",
       "      <td>0</td>\n",
       "      <td>1</td>\n",
       "    </tr>\n",
       "  </tbody>\n",
       "</table>\n",
       "</div>"
      ],
      "text/plain": [
       "   B  M\n",
       "0  0  1\n",
       "1  0  1\n",
       "2  0  1\n",
       "3  0  1\n",
       "4  0  1"
      ]
     },
     "execution_count": 16,
     "metadata": {
     },
     "output_type": "execute_result"
    }
   ],
   "source": [
    "dummies = pd.get_dummies(breast_cancer[\"diagnosis\"])\n",
    "dummies.head()"
   ]
  },
  {
   "cell_type": "markdown",
   "metadata": {
    "collapsed": false,
    "id": "YXI5tmDd5CKh"
   },
   "source": [
    "**Ok, we've got our dummy variables. What now?** Now we have to pick one and add it to our dataframe -- we also have to delete the old diagnosis column!"
   ]
  },
  {
   "cell_type": "code",
   "execution_count": 18,
   "metadata": {
    "collapsed": false,
    "id": "QtT1BaBF5M3V"
   },
   "outputs": [
    {
     "data": {
      "text/html": [
       "<div>\n",
       "<style scoped>\n",
       "    .dataframe tbody tr th:only-of-type {\n",
       "        vertical-align: middle;\n",
       "    }\n",
       "\n",
       "    .dataframe tbody tr th {\n",
       "        vertical-align: top;\n",
       "    }\n",
       "\n",
       "    .dataframe thead th {\n",
       "        text-align: right;\n",
       "    }\n",
       "</style>\n",
       "<table border=\"1\" class=\"dataframe\">\n",
       "  <thead>\n",
       "    <tr style=\"text-align: right;\">\n",
       "      <th></th>\n",
       "      <th>diagnosis</th>\n",
       "      <th>radius_mean</th>\n",
       "      <th>texture_mean</th>\n",
       "      <th>perimeter_mean</th>\n",
       "      <th>area_mean</th>\n",
       "      <th>smoothness_mean</th>\n",
       "      <th>compactness_mean</th>\n",
       "      <th>concavity_mean</th>\n",
       "      <th>concave points_mean</th>\n",
       "      <th>symmetry_mean</th>\n",
       "      <th>...</th>\n",
       "      <th>texture_worst</th>\n",
       "      <th>perimeter_worst</th>\n",
       "      <th>area_worst</th>\n",
       "      <th>smoothness_worst</th>\n",
       "      <th>compactness_worst</th>\n",
       "      <th>concavity_worst</th>\n",
       "      <th>concave points_worst</th>\n",
       "      <th>symmetry_worst</th>\n",
       "      <th>fractal_dimension_worst</th>\n",
       "      <th>outcome</th>\n",
       "    </tr>\n",
       "  </thead>\n",
       "  <tbody>\n",
       "    <tr>\n",
       "      <th>564</th>\n",
       "      <td>M</td>\n",
       "      <td>21.56</td>\n",
       "      <td>22.39</td>\n",
       "      <td>142.00</td>\n",
       "      <td>1479.0</td>\n",
       "      <td>0.11100</td>\n",
       "      <td>0.11590</td>\n",
       "      <td>0.24390</td>\n",
       "      <td>0.13890</td>\n",
       "      <td>0.1726</td>\n",
       "      <td>...</td>\n",
       "      <td>26.40</td>\n",
       "      <td>166.10</td>\n",
       "      <td>2027.0</td>\n",
       "      <td>0.14100</td>\n",
       "      <td>0.21130</td>\n",
       "      <td>0.4107</td>\n",
       "      <td>0.2216</td>\n",
       "      <td>0.2060</td>\n",
       "      <td>0.07115</td>\n",
       "      <td>1</td>\n",
       "    </tr>\n",
       "    <tr>\n",
       "      <th>565</th>\n",
       "      <td>M</td>\n",
       "      <td>20.13</td>\n",
       "      <td>28.25</td>\n",
       "      <td>131.20</td>\n",
       "      <td>1261.0</td>\n",
       "      <td>0.09780</td>\n",
       "      <td>0.10340</td>\n",
       "      <td>0.14400</td>\n",
       "      <td>0.09791</td>\n",
       "      <td>0.1752</td>\n",
       "      <td>...</td>\n",
       "      <td>38.25</td>\n",
       "      <td>155.00</td>\n",
       "      <td>1731.0</td>\n",
       "      <td>0.11660</td>\n",
       "      <td>0.19220</td>\n",
       "      <td>0.3215</td>\n",
       "      <td>0.1628</td>\n",
       "      <td>0.2572</td>\n",
       "      <td>0.06637</td>\n",
       "      <td>1</td>\n",
       "    </tr>\n",
       "    <tr>\n",
       "      <th>566</th>\n",
       "      <td>M</td>\n",
       "      <td>16.60</td>\n",
       "      <td>28.08</td>\n",
       "      <td>108.30</td>\n",
       "      <td>858.1</td>\n",
       "      <td>0.08455</td>\n",
       "      <td>0.10230</td>\n",
       "      <td>0.09251</td>\n",
       "      <td>0.05302</td>\n",
       "      <td>0.1590</td>\n",
       "      <td>...</td>\n",
       "      <td>34.12</td>\n",
       "      <td>126.70</td>\n",
       "      <td>1124.0</td>\n",
       "      <td>0.11390</td>\n",
       "      <td>0.30940</td>\n",
       "      <td>0.3403</td>\n",
       "      <td>0.1418</td>\n",
       "      <td>0.2218</td>\n",
       "      <td>0.07820</td>\n",
       "      <td>1</td>\n",
       "    </tr>\n",
       "    <tr>\n",
       "      <th>567</th>\n",
       "      <td>M</td>\n",
       "      <td>20.60</td>\n",
       "      <td>29.33</td>\n",
       "      <td>140.10</td>\n",
       "      <td>1265.0</td>\n",
       "      <td>0.11780</td>\n",
       "      <td>0.27700</td>\n",
       "      <td>0.35140</td>\n",
       "      <td>0.15200</td>\n",
       "      <td>0.2397</td>\n",
       "      <td>...</td>\n",
       "      <td>39.42</td>\n",
       "      <td>184.60</td>\n",
       "      <td>1821.0</td>\n",
       "      <td>0.16500</td>\n",
       "      <td>0.86810</td>\n",
       "      <td>0.9387</td>\n",
       "      <td>0.2650</td>\n",
       "      <td>0.4087</td>\n",
       "      <td>0.12400</td>\n",
       "      <td>1</td>\n",
       "    </tr>\n",
       "    <tr>\n",
       "      <th>568</th>\n",
       "      <td>B</td>\n",
       "      <td>7.76</td>\n",
       "      <td>24.54</td>\n",
       "      <td>47.92</td>\n",
       "      <td>181.0</td>\n",
       "      <td>0.05263</td>\n",
       "      <td>0.04362</td>\n",
       "      <td>0.00000</td>\n",
       "      <td>0.00000</td>\n",
       "      <td>0.1587</td>\n",
       "      <td>...</td>\n",
       "      <td>30.37</td>\n",
       "      <td>59.16</td>\n",
       "      <td>268.6</td>\n",
       "      <td>0.08996</td>\n",
       "      <td>0.06444</td>\n",
       "      <td>0.0000</td>\n",
       "      <td>0.0000</td>\n",
       "      <td>0.2871</td>\n",
       "      <td>0.07039</td>\n",
       "      <td>0</td>\n",
       "    </tr>\n",
       "  </tbody>\n",
       "</table>\n",
       "<p>5 rows × 32 columns</p>\n",
       "</div>"
      ],
      "text/plain": [
       "    diagnosis  radius_mean  texture_mean  perimeter_mean  area_mean  \\\n",
       "564         M        21.56         22.39          142.00     1479.0   \n",
       "565         M        20.13         28.25          131.20     1261.0   \n",
       "566         M        16.60         28.08          108.30      858.1   \n",
       "567         M        20.60         29.33          140.10     1265.0   \n",
       "568         B         7.76         24.54           47.92      181.0   \n",
       "\n",
       "     smoothness_mean  compactness_mean  concavity_mean  concave points_mean  \\\n",
       "564          0.11100           0.11590         0.24390              0.13890   \n",
       "565          0.09780           0.10340         0.14400              0.09791   \n",
       "566          0.08455           0.10230         0.09251              0.05302   \n",
       "567          0.11780           0.27700         0.35140              0.15200   \n",
       "568          0.05263           0.04362         0.00000              0.00000   \n",
       "\n",
       "     symmetry_mean  ...  texture_worst  perimeter_worst  area_worst  \\\n",
       "564         0.1726  ...          26.40           166.10      2027.0   \n",
       "565         0.1752  ...          38.25           155.00      1731.0   \n",
       "566         0.1590  ...          34.12           126.70      1124.0   \n",
       "567         0.2397  ...          39.42           184.60      1821.0   \n",
       "568         0.1587  ...          30.37            59.16       268.6   \n",
       "\n",
       "     smoothness_worst  compactness_worst  concavity_worst  \\\n",
       "564           0.14100            0.21130           0.4107   \n",
       "565           0.11660            0.19220           0.3215   \n",
       "566           0.11390            0.30940           0.3403   \n",
       "567           0.16500            0.86810           0.9387   \n",
       "568           0.08996            0.06444           0.0000   \n",
       "\n",
       "     concave points_worst  symmetry_worst  fractal_dimension_worst  outcome  \n",
       "564                0.2216          0.2060                  0.07115        1  \n",
       "565                0.1628          0.2572                  0.06637        1  \n",
       "566                0.1418          0.2218                  0.07820        1  \n",
       "567                0.2650          0.4087                  0.12400        1  \n",
       "568                0.0000          0.2871                  0.07039        0  \n",
       "\n",
       "[5 rows x 32 columns]"
      ]
     },
     "execution_count": 18,
     "metadata": {
     },
     "output_type": "execute_result"
    }
   ],
   "source": [
    "breast_cancer[\"outcome\"] = dummies[\"M\"]\n",
    "breast_cancer.tail()"
   ]
  },
  {
   "cell_type": "markdown",
   "metadata": {
    "collapsed": false,
    "id": "kXUk3fFs5VxV"
   },
   "source": [
    "**TODO:** Now that our outcome column is there, we need to remove the diagnosis column that had the bad data, right? Please do so below.\n"
   ]
  },
  {
   "cell_type": "code",
   "execution_count": 19,
   "metadata": {
    "collapsed": false,
    "id": "_e-rGtPu5VIL"
   },
   "outputs": [
   ],
   "source": [
    "#Drop the 'diagnosis' column from your dataframe. Remember to use inplace if you are changing the dataframe itself!\n",
    "breast_cancer.drop(inplace = True, columns=['diagnosis'])"
   ]
  },
  {
   "cell_type": "markdown",
   "metadata": {
    "collapsed": false,
    "id": "jhMq9yAj3x78"
   },
   "source": [
    "### Visualize our data\n",
    "Now that we've cleaned our data and it is all ready for our model, we should understand some of the relationships. Use your learnings from last week to create two plots -- you can always start with simple [scatter plots](https://plotly.com/python/line-and-scatter/) or maybe a [scatterplot matrix](https://plotly.com/python/splom/). Get creative!"
   ]
  },
  {
   "cell_type": "code",
   "execution_count": 20,
   "metadata": {
    "collapsed": false,
    "id": "QtEadcGS3sP3"
   },
   "outputs": [
   ],
   "source": [
    "import plotly.express as px\n",
    "import numpy\n",
    "import matplotlib.pyplot as plt\n",
    "import seaborn as sns"
   ]
  },
  {
   "cell_type": "code",
   "execution_count": 23,
   "metadata": {
    "collapsed": false,
    "id": "zAXnnF9f1Mp-"
   },
   "outputs": [
    {
     "data": {
      "text/html": "<html>\n<head><meta charset=\"utf-8\" /></head>\n<body>\n    <div>            <script src=\"https://cdnjs.cloudflare.com/ajax/libs/mathjax/2.7.5/MathJax.js?config=TeX-AMS-MML_SVG\"></script><script type=\"text/javascript\">if (window.MathJax) {MathJax.Hub.Config({SVG: {font: \"STIX-Web\"}});}</script>                <script type=\"text/javascript\">window.PlotlyConfig = {MathJaxConfig: 'local'};</script>\n        <script src=\"https://cdn.plot.ly/plotly-2.9.0.min.js\"></script>                <div id=\"7f4fa5ad-f07b-4aca-84b1-7842f99bc4f0\" class=\"plotly-graph-div\" style=\"height:525px; width:100%;\"></div>            <script type=\"text/javascript\">                                    window.PLOTLYENV=window.PLOTLYENV || {};                                    if (document.getElementById(\"7f4fa5ad-f07b-4aca-84b1-7842f99bc4f0\")) {                    Plotly.newPlot(                        \"7f4fa5ad-f07b-4aca-84b1-7842f99bc4f0\",                        [{\"dimensions\":[{\"axis\":{\"matches\":true},\"label\":\"radius_mean\",\"values\":[17.99,20.57,19.69,11.42,20.29,12.45,18.25,13.71,13.0,12.46,16.02,15.78,19.17,15.85,13.73,14.54,14.68,16.13,19.81,13.54,13.08,9.504,15.34,21.16,16.65,17.14,14.58,18.61,15.3,17.57,18.63,11.84,17.02,19.27,16.13,16.74,14.25,13.03,14.99,13.48,13.44,10.95,19.07,13.28,13.17,18.65,8.196,13.17,12.05,13.49,11.76,13.64,11.94,18.22,15.1,11.52,19.21,14.71,13.05,8.618,10.17,8.598,14.25,9.173,12.68,14.78,9.465,11.31,9.029,12.78,18.94,8.888,17.2,13.8,12.31,16.07,13.53,18.05,20.18,12.86,11.45,13.34,25.22,19.1,12.0,18.46,14.48,19.02,12.36,14.64,14.62,15.37,13.27,13.45,15.06,20.26,12.18,9.787,11.6,14.42,13.61,6.981,12.18,9.876,10.49,13.11,11.64,12.36,22.27,11.34,9.777,12.63,14.26,10.51,8.726,11.93,8.95,14.87,15.78,17.95,11.41,18.66,24.25,14.5,13.37,13.85,13.61,19.0,15.1,19.79,12.19,15.46,16.16,15.71,18.45,12.77,11.71,11.43,14.95,11.28,9.738,16.11,11.43,12.9,10.75,11.9,11.8,14.95,14.44,13.74,13.0,8.219,9.731,11.15,13.15,12.25,17.68,16.84,12.06,10.9,11.75,19.19,19.59,12.34,23.27,14.97,10.8,16.78,17.47,14.97,12.32,13.43,15.46,11.08,10.66,8.671,9.904,16.46,13.01,12.81,27.22,21.09,15.7,11.41,15.28,10.08,18.31,11.71,11.81,12.3,14.22,12.77,9.72,12.34,14.86,12.91,13.77,18.08,19.18,14.45,12.23,17.54,23.29,13.81,12.47,15.12,9.876,17.01,13.11,15.27,20.58,11.84,28.11,17.42,14.19,13.86,11.89,10.2,19.8,19.53,13.65,13.56,10.18,15.75,13.27,14.34,10.44,15.0,12.62,12.83,17.05,11.32,11.22,20.51,9.567,14.03,23.21,20.48,14.22,17.46,13.64,12.42,11.3,13.75,19.4,10.48,13.2,12.89,10.65,11.52,20.94,11.5,19.73,17.3,19.45,13.96,19.55,15.32,15.66,15.53,20.31,17.35,17.29,15.61,17.19,20.73,10.6,13.59,12.87,10.71,14.29,11.29,21.75,9.742,17.93,11.89,11.33,18.81,13.59,13.85,19.16,11.74,19.4,16.24,12.89,12.58,11.94,12.89,11.26,11.37,14.41,14.96,12.95,11.85,12.72,13.77,10.91,11.76,14.26,10.51,19.53,12.46,20.09,10.49,11.46,11.6,13.2,9.0,13.5,13.05,11.7,14.61,12.76,11.54,8.597,12.49,12.18,18.22,9.042,12.43,10.25,20.16,12.86,20.34,12.2,12.67,14.11,12.03,16.27,16.26,16.03,12.98,11.22,11.25,12.3,17.06,12.99,18.77,10.05,23.51,14.42,9.606,11.06,19.68,11.71,10.26,12.06,14.76,11.47,11.95,11.66,15.75,25.73,15.08,11.14,12.56,13.05,13.87,8.878,9.436,12.54,13.3,12.76,16.5,13.4,20.44,20.2,12.21,21.71,22.01,16.35,15.19,21.37,20.64,13.69,16.17,10.57,13.46,13.66,11.08,11.27,11.04,12.05,12.39,13.28,14.6,12.21,13.88,11.27,19.55,10.26,8.734,15.49,21.61,12.1,14.06,13.51,12.8,11.06,11.8,17.91,11.93,12.96,12.94,12.34,10.94,16.14,12.85,17.99,12.27,11.36,11.04,9.397,14.99,15.13,11.89,9.405,15.5,12.7,11.16,11.57,14.69,11.61,13.66,9.742,10.03,10.48,10.8,11.13,12.72,14.9,12.4,20.18,18.82,14.86,13.98,12.87,14.04,13.85,14.02,10.97,17.27,13.78,10.57,18.03,11.99,17.75,14.8,14.53,21.1,11.87,19.59,12.0,14.53,12.62,13.38,11.63,13.21,13.0,9.755,17.08,27.42,14.4,11.6,13.17,13.24,13.14,9.668,17.6,11.62,9.667,12.04,14.92,12.27,10.88,12.83,14.2,13.9,11.49,16.25,12.16,13.9,13.47,13.7,15.73,12.45,14.64,19.44,11.68,16.69,12.25,17.85,18.01,12.46,13.16,14.87,12.65,12.47,18.49,20.59,15.04,13.82,12.54,23.09,9.268,9.676,12.22,11.06,16.3,15.46,11.74,14.81,13.4,14.58,15.05,11.34,18.31,19.89,12.88,12.75,9.295,24.63,11.26,13.71,9.847,8.571,13.46,12.34,13.94,12.07,11.75,11.67,13.68,20.47,10.96,20.55,14.27,11.69,7.729,7.691,11.54,14.47,14.74,13.21,13.87,13.62,10.32,10.26,9.683,10.82,10.86,11.13,12.77,9.333,12.88,10.29,10.16,9.423,14.59,11.51,14.05,11.2,15.22,20.92,21.56,20.13,16.6,20.6,7.76]},{\"axis\":{\"matches\":true},\"label\":\"texture_mean\",\"values\":[10.38,17.77,21.25,20.38,14.34,15.7,19.98,20.83,21.82,24.04,23.24,17.89,24.8,23.95,22.61,27.54,20.13,20.68,22.15,14.36,15.71,12.44,14.26,23.04,21.38,16.4,21.53,20.25,25.27,15.05,25.11,18.7,23.98,26.47,17.88,21.59,21.72,18.42,25.2,20.82,21.58,21.35,24.81,20.28,21.81,17.6,16.84,18.66,14.63,22.3,21.6,16.34,18.24,18.7,22.02,18.75,18.57,21.59,19.31,11.79,14.88,20.98,22.15,13.86,23.84,23.94,21.01,19.04,17.33,16.49,21.31,14.64,24.52,15.79,16.52,19.65,10.94,16.15,23.97,18.0,20.97,15.86,24.91,26.29,15.65,18.52,21.46,24.59,21.8,15.24,24.02,22.76,14.76,18.3,19.83,23.03,17.84,19.94,12.84,19.77,24.98,13.43,20.52,19.4,19.29,15.56,18.33,18.54,19.67,21.26,16.99,20.76,19.65,20.19,15.83,21.53,15.76,16.67,22.91,20.01,10.82,17.12,20.2,10.89,16.39,17.21,24.69,18.91,16.39,25.12,13.29,19.48,21.54,13.93,21.91,22.47,16.67,15.39,17.57,13.39,11.97,18.05,17.31,15.92,14.97,14.65,16.58,18.77,15.18,17.91,20.78,20.7,15.34,13.08,15.34,17.94,20.74,19.46,12.74,12.96,20.18,15.94,18.15,22.22,22.04,19.76,9.71,18.8,24.68,16.95,12.39,19.63,11.89,14.71,15.15,14.45,18.06,20.11,22.22,13.06,21.87,26.57,20.31,14.92,22.41,15.11,18.58,17.19,17.39,15.9,23.12,21.41,18.22,26.86,23.21,16.33,22.29,21.84,22.49,20.22,19.56,19.32,26.67,23.75,18.6,16.68,17.27,20.26,22.54,12.91,22.14,18.94,18.47,25.56,23.81,16.93,18.35,17.48,21.56,32.47,13.16,13.9,17.53,20.25,17.02,13.47,15.46,15.51,23.97,22.33,19.08,27.08,33.81,27.81,15.91,21.25,26.97,21.46,27.85,39.28,15.6,15.04,18.19,23.77,23.5,19.86,17.43,14.11,25.22,14.93,23.56,18.45,19.82,17.08,19.33,17.05,28.77,17.27,23.2,33.56,27.06,23.06,22.13,19.38,22.07,31.12,18.95,21.84,16.21,20.39,16.82,13.04,20.99,15.67,24.48,17.36,14.16,19.98,17.84,15.18,26.6,14.02,18.18,18.77,15.7,18.4,20.76,13.12,19.96,18.89,19.73,19.1,16.02,17.46,13.78,13.27,12.35,18.14,18.17,23.09,18.9,19.89,23.86,18.61,18.16,24.49,15.82,14.4,12.71,13.84,19.11,15.69,13.37,10.72,18.6,16.85,14.08,18.87,18.9,17.0,16.18,19.66,13.32,21.51,15.21,17.3,12.88,17.93,20.71,21.88,15.51,19.35,19.86,14.78,19.02,21.0,14.23,21.43,17.53,24.27,16.54,16.84,14.96,21.68,15.45,14.71,18.9,14.74,16.03,14.96,17.07,19.22,17.46,25.74,14.07,19.07,18.59,16.21,15.49,18.32,18.07,21.57,18.84,18.29,16.95,21.78,26.83,18.02,17.25,21.9,23.29,13.21,15.1,17.35,16.07,16.07,20.22,28.21,15.15,18.83,12.96,14.93,22.72,17.48,13.72,23.29,14.09,16.16,15.5,23.21,12.22,16.84,19.97,22.28,17.72,17.18,18.89,17.46,14.83,17.26,21.02,10.91,18.29,16.17,14.95,18.59,14.86,21.37,20.66,17.92,17.57,16.83,21.68,22.11,29.81,21.17,21.7,21.08,12.17,21.41,19.04,13.98,16.02,19.13,19.12,21.28,14.98,21.98,16.62,17.67,22.53,17.68,19.54,21.97,16.94,19.62,19.54,15.98,19.6,15.66,17.2,25.42,15.79,18.32,16.85,24.89,28.03,17.66,19.34,20.52,21.54,25.0,28.23,13.98,17.15,30.72,29.29,25.25,25.13,28.2,27.15,26.27,26.99,18.36,18.22,20.13,20.74,18.1,23.33,18.18,18.49,28.14,14.93,29.97,15.62,15.73,20.53,16.62,14.59,19.51,18.03,19.24,14.06,17.64,11.28,16.41,16.85,18.82,16.17,20.2,22.44,13.23,20.56,12.83,20.54,20.21,18.17,17.31,17.52,21.24,16.74,24.49,16.32,19.83,12.87,13.14,20.04,17.12,15.7,23.95,14.69,14.7,20.52,13.66,19.07,18.61,20.58,20.26,18.22,16.7,13.9,21.6,19.83,18.68,15.68,13.1,18.75,12.27,13.17,13.44,17.56,20.02,16.33,20.67,17.62,20.86,22.55,24.44,25.49,25.44,14.44,24.99,25.42,28.06,20.7,23.23,16.35,16.58,19.34,24.21,21.48,22.44,29.43,21.94,28.92,27.61,19.59,27.88,22.68,23.93,27.15,29.37,30.62,25.09,22.39,28.25,28.08,29.33,24.54]},{\"axis\":{\"matches\":true},\"label\":\"perimeter_mean\",\"values\":[122.8,132.9,130.0,77.58,135.1,82.57,119.6,90.2,87.5,83.97,102.7,103.6,132.4,103.7,93.6,96.73,94.74,108.1,130.0,87.46,85.63,60.34,102.5,137.2,110.0,116.0,97.41,122.1,102.4,115.0,124.8,77.93,112.8,127.9,107.0,110.1,93.63,82.61,95.54,88.4,86.18,71.9,128.3,87.32,85.42,123.7,51.71,85.98,78.04,86.91,74.72,87.21,75.71,120.3,97.26,73.34,125.5,95.55,82.61,54.34,64.55,54.66,96.42,59.2,82.69,97.4,60.11,71.8,58.79,81.37,123.6,58.79,114.2,90.43,79.19,104.1,87.91,120.2,143.7,83.19,73.81,86.49,171.5,129.1,76.95,121.1,94.25,122.0,79.78,95.77,94.57,100.2,84.74,86.6,100.3,132.4,77.79,62.11,74.34,94.48,88.05,43.79,77.22,63.95,67.41,87.21,75.17,79.01,152.8,72.48,62.5,82.15,97.83,68.64,55.84,76.53,58.74,98.64,105.7,114.2,73.34,121.4,166.2,94.28,86.1,88.44,87.76,123.4,99.58,130.4,79.08,101.7,106.2,102.0,120.2,81.72,74.72,73.06,96.85,73.0,61.24,105.1,73.66,83.74,68.26,78.11,78.99,97.84,93.97,88.12,83.51,53.27,63.78,70.87,85.31,78.27,117.4,108.4,76.84,68.69,76.1,126.3,130.7,79.85,152.1,95.5,68.77,109.3,116.1,96.22,78.85,85.84,102.5,70.21,67.49,54.42,64.6,109.3,82.01,81.29,182.1,142.7,101.2,73.53,98.92,63.76,118.6,74.68,75.27,78.83,94.37,82.02,60.73,81.15,100.4,82.53,90.63,117.4,127.5,94.49,78.54,115.1,158.9,91.56,81.09,98.78,62.92,109.7,87.02,98.17,134.7,75.51,188.5,114.5,92.87,90.96,77.32,65.05,129.7,128.0,87.88,88.59,65.12,102.6,84.55,92.51,66.62,97.45,81.35,85.26,113.4,71.76,70.79,134.4,60.21,89.79,153.5,132.5,92.55,113.4,87.38,78.61,73.93,88.54,129.1,66.72,84.13,84.95,68.01,73.87,138.9,73.28,130.7,113.0,126.5,91.43,133.6,103.2,110.2,103.7,132.9,111.0,114.4,100.0,111.6,135.7,69.28,87.16,82.38,69.5,90.3,72.23,147.3,61.5,115.2,76.2,71.79,120.9,86.24,88.99,126.2,74.24,127.2,108.8,84.08,79.83,77.87,81.89,73.72,72.17,96.03,97.03,83.14,75.54,81.78,88.06,69.14,75.0,91.22,66.85,129.5,80.43,134.7,66.86,73.59,74.23,84.07,56.36,85.69,82.71,74.33,92.68,82.29,73.73,54.09,79.19,77.25,118.7,60.07,78.6,66.52,131.1,82.82,135.9,78.01,81.25,90.03,76.09,106.9,107.5,105.8,84.52,71.94,71.38,77.88,111.8,84.08,122.9,64.41,155.1,94.15,61.64,71.49,129.9,75.03,66.2,76.66,94.87,73.02,77.23,73.7,107.1,174.2,98.0,71.24,81.92,85.09,88.52,56.74,59.82,79.42,85.24,81.87,106.6,85.48,133.8,133.7,78.31,140.9,147.2,109.0,97.65,141.3,134.8,87.84,106.3,70.15,85.89,88.27,73.3,73.16,70.67,78.75,80.64,85.79,93.97,78.78,88.37,73.38,128.9,65.75,55.27,102.4,144.4,78.07,89.75,88.1,83.05,70.31,75.26,124.4,76.14,84.18,83.18,78.29,70.39,104.3,82.63,117.8,78.41,72.49,70.92,59.75,97.53,96.71,76.39,59.6,102.9,80.88,70.95,74.2,98.22,75.46,89.46,61.93,63.19,67.49,68.79,70.47,80.98,102.1,81.47,133.8,123.7,94.89,91.12,82.67,89.78,88.68,89.59,71.73,112.4,88.37,66.82,117.5,77.61,117.3,95.88,94.25,138.1,76.83,127.7,76.77,93.86,80.62,86.34,74.87,84.1,82.61,61.68,111.2,186.9,92.25,73.88,84.28,86.87,85.98,61.06,119.0,76.38,61.49,76.85,96.45,77.42,70.41,82.89,92.41,88.97,73.99,109.8,78.29,88.73,87.32,87.76,102.8,82.85,94.21,128.1,75.49,107.1,78.18,114.6,118.4,78.83,84.06,96.12,82.69,80.45,121.3,137.8,98.73,92.33,81.25,152.1,61.49,64.12,79.47,71.25,104.7,103.8,76.31,94.66,88.64,94.29,97.26,72.76,120.8,130.5,84.45,82.51,59.96,165.5,71.3,88.73,63.0,54.53,87.44,78.94,90.31,77.83,75.89,75.21,87.76,134.7,70.79,137.8,93.77,76.37,47.98,48.34,74.65,95.81,94.7,84.88,89.77,87.19,65.31,65.85,61.05,68.89,68.51,71.49,81.35,59.01,82.5,65.67,64.73,59.26,96.39,74.52,91.38,70.67,103.4,143.0,142.0,131.2,108.3,140.1,47.92]},{\"axis\":{\"matches\":true},\"label\":\"area_mean\",\"values\":[1001.0,1326.0,1203.0,386.1,1297.0,477.1,1040.0,577.9,519.8,475.9,797.8,781.0,1123.0,782.7,578.3,658.8,684.5,798.8,1260.0,566.3,520.0,273.9,704.4,1404.0,904.6,912.7,644.8,1094.0,732.4,955.1,1088.0,440.6,899.3,1162.0,807.2,869.5,633.0,523.8,698.8,559.2,563.0,371.1,1104.0,545.2,531.5,1076.0,201.9,534.6,449.3,561.0,427.9,571.8,437.6,1033.0,712.8,409.0,1152.0,656.9,527.2,224.5,311.9,221.8,645.7,260.9,499.0,668.3,269.4,394.1,250.5,502.5,1130.0,244.0,929.4,584.1,470.9,817.7,559.2,1006.0,1245.0,506.3,401.5,520.0,1878.0,1132.0,443.3,1075.0,648.2,1076.0,466.1,651.9,662.7,728.2,551.7,555.1,705.6,1264.0,451.1,294.5,412.6,642.5,582.7,143.5,458.7,298.3,336.1,530.2,412.5,466.7,1509.0,396.5,290.2,480.4,629.9,334.2,230.9,438.6,245.2,682.5,782.6,982.0,403.3,1077.0,1761.0,640.7,553.5,588.7,572.6,1138.0,674.5,1192.0,455.8,748.9,809.8,761.7,1075.0,506.3,423.6,399.8,678.1,384.8,288.5,813.0,398.0,512.2,355.3,432.8,432.0,689.5,640.1,585.0,519.4,203.9,300.2,381.9,538.9,460.3,963.7,880.2,448.6,366.8,419.8,1157.0,1214.0,464.5,1686.0,690.2,357.6,886.3,984.6,685.9,464.1,565.4,736.9,372.7,349.6,227.2,302.4,832.9,526.4,508.8,2250.0,1311.0,766.6,402.0,710.6,317.5,1041.0,420.3,428.9,463.7,609.9,507.4,288.1,477.4,671.4,516.4,588.9,1024.0,1148.0,642.7,461.0,951.6,1685.0,597.8,481.9,716.6,295.4,904.3,529.4,725.5,1290.0,428.0,2499.0,948.0,610.7,578.9,432.2,321.2,1230.0,1223.0,568.9,561.3,313.1,761.3,546.4,641.2,329.6,684.5,496.4,503.2,895.0,395.7,386.8,1319.0,279.6,603.4,1670.0,1306.0,623.9,920.6,575.3,476.5,389.4,590.0,1155.0,337.7,541.6,512.2,347.0,406.3,1364.0,407.4,1206.0,928.2,1169.0,602.4,1207.0,713.3,773.5,744.9,1288.0,933.1,947.8,758.6,928.3,1419.0,346.4,561.0,512.2,344.9,632.6,388.0,1491.0,289.9,998.9,435.6,396.6,1102.0,572.3,587.4,1138.0,427.3,1145.0,805.1,516.6,489.0,441.0,515.9,394.1,396.0,651.0,687.3,513.7,432.7,492.1,582.7,363.7,431.1,633.1,334.2,1217.0,471.3,1247.0,334.3,403.1,417.2,537.3,246.3,566.2,530.6,418.7,664.9,504.1,409.1,221.2,481.6,461.4,1027.0,244.5,477.3,324.2,1274.0,504.8,1264.0,457.9,489.9,616.5,446.0,813.7,826.8,793.2,514.0,387.3,390.0,464.4,918.6,514.3,1092.0,310.8,1747.0,641.2,280.5,373.9,1194.0,420.3,321.6,445.3,668.7,402.7,426.7,421.0,758.6,2010.0,716.6,384.6,485.8,512.0,593.7,241.0,278.6,491.9,546.1,496.6,838.1,552.4,1293.0,1234.0,458.4,1546.0,1482.0,840.4,711.8,1386.0,1335.0,579.1,788.5,338.3,562.1,580.6,361.6,386.3,372.7,447.8,462.9,541.8,664.7,462.0,596.6,392.0,1174.0,321.6,234.3,744.7,1407.0,446.2,609.1,558.1,508.3,378.2,431.9,994.0,442.7,525.2,507.6,469.1,370.0,800.0,514.5,991.7,466.1,399.8,373.2,268.8,693.7,719.5,433.8,271.2,803.1,495.0,380.3,409.7,656.1,408.2,575.3,289.7,307.3,333.6,359.9,381.1,501.3,685.0,467.8,1250.0,1110.0,673.7,599.5,509.2,611.2,592.6,606.5,371.5,928.8,585.9,340.9,990.0,441.3,981.6,674.8,659.7,1384.0,432.0,1191.0,442.5,644.2,492.9,557.2,415.1,537.9,520.2,290.9,930.9,2501.0,646.1,412.7,537.3,542.9,536.9,286.3,980.5,408.8,289.1,449.9,686.9,465.4,358.9,506.9,618.4,599.4,404.9,815.8,455.3,602.9,546.3,571.1,747.2,476.7,666.0,1167.0,420.5,857.6,466.5,992.1,1007.0,477.3,538.7,680.9,485.6,480.1,1068.0,1320.0,689.4,595.9,476.3,1682.0,248.7,272.5,453.1,366.5,819.8,731.3,426.0,680.7,556.7,658.8,701.9,391.2,1052.0,1214.0,493.1,493.8,257.8,1841.0,388.1,571.0,293.2,221.3,551.1,468.5,594.2,445.2,422.9,416.2,575.5,1299.0,365.6,1308.0,629.8,406.4,178.8,170.4,402.9,656.4,668.6,538.4,584.8,573.2,324.9,320.8,285.7,361.6,360.5,378.4,507.9,264.0,514.3,321.4,311.7,271.3,657.1,403.5,600.4,386.0,716.9,1347.0,1479.0,1261.0,858.1,1265.0,181.0]},{\"axis\":{\"matches\":true},\"label\":\"smoothness_mean\",\"values\":[0.1184,0.08474,0.1096,0.1425,0.1003,0.1278,0.09463,0.1189,0.1273,0.1186,0.08206,0.0971,0.0974,0.08401,0.1131,0.1139,0.09867,0.117,0.09831,0.09779,0.1075,0.1024,0.1073,0.09428,0.1121,0.1186,0.1054,0.0944,0.1082,0.09847,0.1064,0.1109,0.1197,0.09401,0.104,0.0961,0.09823,0.08983,0.09387,0.1016,0.08162,0.1227,0.09081,0.1041,0.09714,0.1099,0.086,0.1158,0.1031,0.08752,0.08637,0.07685,0.08261,0.1148,0.09056,0.09524,0.1053,0.1137,0.0806,0.09752,0.1134,0.1243,0.1049,0.07721,0.1122,0.1172,0.1044,0.08139,0.1066,0.09831,0.09009,0.09783,0.1071,0.1007,0.09172,0.09168,0.1291,0.1065,0.1286,0.09934,0.1102,0.1078,0.1063,0.1215,0.09723,0.09874,0.09444,0.09029,0.08772,0.1132,0.08974,0.092,0.07355,0.1022,0.1039,0.09078,0.1045,0.1024,0.08983,0.09752,0.09488,0.117,0.08013,0.1005,0.09989,0.1398,0.1142,0.08477,0.1326,0.08759,0.1037,0.09933,0.07837,0.1122,0.115,0.09768,0.09462,0.1162,0.1155,0.08402,0.09373,0.1054,0.1447,0.1101,0.07115,0.08785,0.09258,0.08217,0.115,0.1015,0.1066,0.1092,0.1008,0.09462,0.0943,0.09055,0.1051,0.09639,0.1167,0.1164,0.0925,0.09721,0.1092,0.08677,0.07793,0.1152,0.1091,0.08138,0.0997,0.07944,0.1135,0.09405,0.1072,0.09754,0.09384,0.08654,0.1115,0.07445,0.09311,0.07515,0.1089,0.08694,0.112,0.1012,0.08439,0.08421,0.09594,0.08865,0.1049,0.09855,0.1028,0.09048,0.1257,0.1006,0.08792,0.09138,0.09699,0.09831,0.06251,0.08739,0.1094,0.1141,0.09597,0.09059,0.09057,0.09267,0.08588,0.09774,0.1007,0.0808,0.1075,0.08749,0.0695,0.1034,0.1044,0.07941,0.12,0.07371,0.08523,0.09872,0.09586,0.08968,0.1141,0.1323,0.09965,0.08876,0.1089,0.08772,0.1002,0.08182,0.0909,0.08871,0.1142,0.1006,0.09463,0.1026,0.09363,0.08054,0.09383,0.0842,0.09646,0.1051,0.1061,0.1025,0.08445,0.09906,0.1053,0.08371,0.07903,0.1088,0.1141,0.06883,0.0778,0.09159,0.08464,0.0907,0.09509,0.08355,0.08223,0.09812,0.09423,0.07926,0.09592,0.08043,0.1027,0.107,0.07215,0.0876,0.09657,0.1013,0.1007,0.09345,0.1062,0.1008,0.1035,0.1096,0.0926,0.1335,0.1109,0.1063,0.1,0.08662,0.08999,0.0784,0.09726,0.09469,0.09688,0.07956,0.09425,0.1082,0.06429,0.09834,0.09401,0.09037,0.08855,0.1225,0.09379,0.08923,0.07948,0.09516,0.102,0.07813,0.1037,0.1066,0.07818,0.08393,0.08605,0.06955,0.0802,0.08713,0.08757,0.08992,0.1005,0.08372,0.09667,0.09198,0.08518,0.09968,0.06576,0.1015,0.115,0.08451,0.108,0.1068,0.08853,0.07474,0.08511,0.07005,0.07376,0.08352,0.08814,0.07618,0.08794,0.08597,0.1074,0.08511,0.07734,0.09746,0.09968,0.07557,0.1061,0.0802,0.1134,0.117,0.08673,0.1028,0.09309,0.07683,0.1169,0.1165,0.09491,0.09579,0.1054,0.08306,0.08313,0.1119,0.09462,0.09116,0.1007,0.1069,0.09751,0.08481,0.1033,0.09797,0.115,0.09882,0.08386,0.08875,0.09076,0.1158,0.07561,0.1243,0.1149,0.1024,0.07274,0.0876,0.1082,0.08743,0.08293,0.1009,0.07436,0.08582,0.09676,0.09686,0.07937,0.0915,0.09905,0.09231,0.09384,0.1063,0.09742,0.07963,0.1001,0.09446,0.08302,0.0988,0.09073,0.07517,0.08268,0.1216,0.1237,0.07987,0.06935,0.1042,0.08363,0.08682,0.08108,0.07026,0.08365,0.101,0.09996,0.1039,0.116,0.1167,0.1029,0.08045,0.1059,0.08044,0.07741,0.09087,0.123,0.08872,0.07351,0.09879,0.08682,0.1004,0.09495,0.07551,0.1036,0.08685,0.08858,0.1077,0.07969,0.08515,0.0832,0.09773,0.1044,0.112,0.08785,0.1018,0.08546,0.1031,0.1088,0.09057,0.1075,0.08117,0.09816,0.08801,0.08151,0.07896,0.09947,0.1054,0.1133,0.1018,0.08924,0.106,0.09136,0.08458,0.08684,0.07966,0.08915,0.08331,0.08817,0.08142,0.08947,0.103,0.09997,0.09179,0.08388,0.09684,0.06613,0.1032,0.08437,0.1099,0.08583,0.09245,0.09357,0.08791,0.08369,0.07984,0.09898,0.1084,0.06995,0.08508,0.07466,0.08284,0.08675,0.08311,0.09289,0.1175,0.08946,0.08752,0.08098,0.07699,0.1007,0.0904,0.08931,0.06828,0.1046,0.1026,0.09087,0.07991,0.1071,0.0995,0.1043,0.09514,0.08641,0.1089,0.1128,0.07497,0.08192,0.07838,0.1001,0.07372,0.07335,0.09587,0.1076,0.08928,0.1012,0.1085,0.09883,0.1162,0.1158,0.09342,0.1634,0.1255,0.1096,0.1194,0.09427,0.1183,0.08099,0.08472,0.1106,0.09832,0.09215,0.1049,0.1068,0.1037,0.1218,0.1125,0.1371,0.103,0.08511,0.09916,0.09492,0.1036,0.1075,0.09003,0.1248,0.11,0.1073,0.1016,0.09277,0.09156,0.09687,0.1046,0.1038,0.1236,0.08098,0.08668,0.09984,0.08837,0.08275,0.08671,0.09578,0.09246,0.09434,0.08877,0.08491,0.08192,0.07431,0.09566,0.08276,0.0924,0.08123,0.0903,0.1003,0.08123,0.08473,0.09261,0.09929,0.07449,0.1048,0.1099,0.111,0.0978,0.08455,0.1178,0.05263]},{\"axis\":{\"matches\":true},\"label\":\"compactness_mean\",\"values\":[0.2776,0.07864,0.1599,0.2839,0.1328,0.17,0.109,0.1645,0.1932,0.2396,0.06669,0.1292,0.2458,0.1002,0.2293,0.1595,0.072,0.2022,0.1027,0.08129,0.127,0.06492,0.2135,0.1022,0.1457,0.2276,0.1868,0.1066,0.1697,0.1157,0.1887,0.1516,0.1496,0.1719,0.1559,0.1336,0.1098,0.03766,0.05131,0.1255,0.06031,0.1218,0.219,0.1436,0.1047,0.1686,0.05943,0.1231,0.09092,0.07698,0.04966,0.06059,0.04751,0.1485,0.07081,0.05473,0.1267,0.1365,0.03789,0.05272,0.08061,0.08963,0.2008,0.08751,0.1262,0.1479,0.07773,0.04701,0.1413,0.05234,0.1029,0.1531,0.183,0.128,0.06829,0.08424,0.1047,0.2146,0.3454,0.09546,0.09362,0.1535,0.2665,0.1791,0.07165,0.1053,0.09947,0.1206,0.09445,0.1339,0.08606,0.1036,0.05055,0.08165,0.1553,0.1313,0.07057,0.05301,0.07525,0.1141,0.08511,0.07568,0.04038,0.09697,0.08578,0.1765,0.1017,0.06815,0.2768,0.06575,0.08404,0.1209,0.2233,0.1303,0.08201,0.07849,0.1243,0.1649,0.1752,0.06722,0.06685,0.11,0.2867,0.1099,0.07325,0.06136,0.07862,0.08028,0.1807,0.1589,0.09509,0.1223,0.1284,0.09462,0.09709,0.05761,0.06095,0.06889,0.1305,0.1136,0.04102,0.1137,0.09486,0.09509,0.05139,0.1296,0.17,0.1167,0.1021,0.06376,0.07589,0.1305,0.1599,0.05113,0.08498,0.06679,0.1665,0.07223,0.05241,0.03718,0.1141,0.1185,0.1666,0.1015,0.1145,0.05352,0.05736,0.09182,0.1603,0.07885,0.06981,0.06288,0.1555,0.05743,0.04302,0.04276,0.1294,0.1556,0.01938,0.03774,0.1914,0.2832,0.08799,0.08155,0.1052,0.04695,0.08468,0.06141,0.05562,0.07253,0.2413,0.06601,0.02344,0.1353,0.198,0.05366,0.1267,0.08642,0.1428,0.1206,0.08087,0.1198,0.2084,0.1768,0.1058,0.09588,0.07232,0.07304,0.1483,0.0623,0.1348,0.069,0.1516,0.1146,0.1306,0.1517,0.1154,0.05907,0.1306,0.113,0.08711,0.1192,0.08502,0.1204,0.04994,0.07624,0.07722,0.1096,0.07529,0.1799,0.1572,0.03813,0.03574,0.1074,0.04087,0.06945,0.1682,0.08348,0.1039,0.1298,0.0663,0.03393,0.1325,0.06807,0.1558,0.05971,0.04524,0.1346,0.07234,0.07808,0.1606,0.05991,0.1849,0.1041,0.1188,0.1279,0.2063,0.2284,0.3114,0.1639,0.1088,0.0629,0.1273,0.05616,0.08995,0.1143,0.1147,0.08259,0.06219,0.1289,0.02675,0.07608,0.1961,0.04689,0.07027,0.0721,0.03872,0.05884,0.04052,0.07688,0.1453,0.0434,0.1442,0.1802,0.0958,0.04216,0.1011,0.03729,0.1181,0.05008,0.1676,0.09823,0.07943,0.05642,0.08393,0.06221,0.04721,0.05914,0.0522,0.06797,0.1642,0.1014,0.1838,0.06678,0.07694,0.05688,0.05251,0.03116,0.03614,0.03735,0.05253,0.03515,0.07948,0.05969,0.05847,0.03834,0.03212,0.1117,0.1972,0.03454,0.1111,0.08564,0.08834,0.1875,0.06545,0.07664,0.05306,0.03892,0.1319,0.1283,0.1371,0.1125,0.06779,0.04458,0.04202,0.1056,0.09965,0.1402,0.07326,0.1283,0.1139,0.09228,0.09097,0.1339,0.07281,0.09159,0.05794,0.0778,0.05886,0.1206,0.0363,0.2364,0.2363,0.09769,0.06064,0.1038,0.1304,0.05492,0.07698,0.05956,0.0265,0.06373,0.07952,0.08468,0.05696,0.1131,0.1669,0.07175,0.08562,0.1954,0.1497,0.06934,0.1515,0.1076,0.06374,0.1438,0.166,0.04726,0.07548,0.2154,0.1111,0.07079,0.1073,0.1297,0.08575,0.06636,0.07823,0.04831,0.1114,0.1318,0.07542,0.07428,0.1562,0.2087,0.09758,0.05361,0.1147,0.08895,0.04768,0.06232,0.2576,0.05242,0.07899,0.08836,0.04571,0.0746,0.08501,0.08316,0.1304,0.06526,0.05313,0.07804,0.06053,0.1025,0.04605,0.0812,0.06159,0.1571,0.05794,0.05978,0.07722,0.1836,0.1168,0.1147,0.08333,0.03912,0.1013,0.05743,0.03834,0.04522,0.2225,0.1316,0.1489,0.1389,0.07074,0.1133,0.07883,0.05895,0.0633,0.05581,0.1113,0.1109,0.06718,0.04462,0.1232,0.09218,0.1314,0.0889,0.078,0.1175,0.1064,0.09871,0.0645,0.09242,0.0543,0.07426,0.08574,0.05205,0.05073,0.04626,0.111,0.1988,0.05223,0.05855,0.05994,0.1223,0.1089,0.05428,0.2004,0.1483,0.06258,0.06,0.08549,0.03398,0.1069,0.08269,0.1108,0.05319,0.08228,0.1893,0.07838,0.05326,0.1155,0.07957,0.1299,0.1511,0.06698,0.1448,0.09263,0.07112,0.052,0.06217,0.1289,0.04043,0.05275,0.08345,0.1334,0.0763,0.1317,0.1644,0.1364,0.1681,0.1085,0.1275,0.2239,0.2204,0.1152,0.1071,0.06712,0.187,0.09661,0.05016,0.1469,0.08918,0.08597,0.08499,0.1248,0.131,0.1661,0.1117,0.1225,0.2106,0.04413,0.107,0.08419,0.07632,0.1138,0.06307,0.09755,0.09009,0.09713,0.09453,0.07255,0.1313,0.09752,0.1739,0.1154,0.1552,0.04878,0.1199,0.112,0.123,0.07214,0.06877,0.1018,0.06747,0.04994,0.08066,0.0503,0.06602,0.04227,0.08194,0.04234,0.05605,0.05824,0.07658,0.07504,0.04971,0.133,0.1021,0.1126,0.03558,0.2087,0.2236,0.1159,0.1034,0.1023,0.277,0.04362]},{\"axis\":{\"matches\":true},\"label\":\"concavity_mean\",\"values\":[0.3001,0.0869,0.1974,0.2414,0.198,0.1578,0.1127,0.09366,0.1859,0.2273,0.03299,0.09954,0.2065,0.09938,0.2128,0.1639,0.07395,0.1722,0.1479,0.06664,0.04568,0.02956,0.2077,0.1097,0.1525,0.2229,0.1425,0.149,0.1683,0.09875,0.2319,0.1218,0.2417,0.1657,0.1354,0.1348,0.1319,0.02562,0.02398,0.1063,0.0311,0.1044,0.2107,0.09847,0.08259,0.1974,0.01588,0.1226,0.06592,0.04751,0.01657,0.01857,0.01972,0.1772,0.05253,0.03036,0.1323,0.1293,0.000692,0.02061,0.01084,0.03,0.2135,0.05988,0.1128,0.1267,0.02172,0.03709,0.313,0.03653,0.108,0.08606,0.1692,0.07789,0.03372,0.09769,0.06877,0.1684,0.3754,0.03889,0.04591,0.1169,0.3339,0.1937,0.04151,0.1335,0.1204,0.1468,0.06015,0.09966,0.03102,0.1122,0.03261,0.03974,0.17,0.1465,0.0249,0.006829,0.04196,0.09388,0.08625,0.0,0.02383,0.06154,0.02995,0.2071,0.0707,0.02643,0.4264,0.05133,0.04334,0.1065,0.3003,0.06476,0.04132,0.03328,0.09263,0.169,0.2133,0.07293,0.03512,0.1457,0.4268,0.08842,0.08092,0.0142,0.05285,0.09271,0.1138,0.2545,0.02855,0.1466,0.1043,0.07135,0.1153,0.04711,0.03592,0.03503,0.1539,0.04635,0.0,0.09447,0.02031,0.04894,0.02251,0.0371,0.1659,0.0905,0.08487,0.02881,0.03136,0.1321,0.4108,0.01982,0.09293,0.03885,0.1855,0.0515,0.01972,0.00309,0.06843,0.1193,0.2508,0.0537,0.1324,0.01947,0.02531,0.08422,0.2159,0.02602,0.03987,0.05858,0.2032,0.02363,0.0,0.0,0.1307,0.1793,0.001595,0.009193,0.2871,0.2487,0.06593,0.06181,0.05375,0.001597,0.08169,0.03809,0.02353,0.03844,0.1981,0.03112,0.0,0.1085,0.1697,0.03873,0.1385,0.1103,0.1114,0.118,0.04187,0.1036,0.3523,0.1558,0.08005,0.0755,0.01756,0.0695,0.08705,0.05892,0.164,0.02669,0.3201,0.1682,0.1115,0.09901,0.06636,0.05774,0.1272,0.1145,0.03888,0.0786,0.01768,0.1147,0.03554,0.05724,0.006643,0.06505,0.05438,0.1695,0.191,0.01633,0.004967,0.1554,0.01652,0.01462,0.195,0.09042,0.1103,0.1417,0.04705,0.01053,0.1548,0.04697,0.2049,0.04831,0.04336,0.1374,0.02379,0.04328,0.2712,0.02638,0.2417,0.1266,0.1379,0.09789,0.1784,0.2448,0.3176,0.1751,0.1519,0.02891,0.09697,0.04209,0.09061,0.1367,0.06387,0.04072,0.039,0.08448,0.00725,0.03265,0.2195,0.01103,0.05699,0.05929,0.001487,0.0802,0.01997,0.04479,0.1921,0.02245,0.1626,0.1948,0.1115,0.00186,0.06574,0.0226,0.09274,0.02399,0.1362,0.0594,0.06155,0.02688,0.01288,0.01063,0.01236,0.02685,0.02475,0.02495,0.2197,0.0683,0.2283,0.02297,0.03344,0.01974,0.001461,0.003681,0.002758,0.004559,0.01583,0.01447,0.04052,0.01367,0.0,0.004473,0.01123,0.113,0.1975,0.01342,0.06726,0.1155,0.038,0.2565,0.01994,0.03193,0.01765,0.001546,0.1478,0.1799,0.1204,0.07107,0.005006,0.0009737,0.007756,0.1508,0.03738,0.106,0.02511,0.2308,0.08007,0.08422,0.05397,0.1863,0.04006,0.03581,0.00751,0.04608,0.02587,0.01171,0.008306,0.2914,0.3368,0.1235,0.04505,0.103,0.09603,0.01502,0.04721,0.0271,0.001194,0.03344,0.02688,0.05862,0.02181,0.09799,0.1641,0.04392,0.1168,0.2448,0.1811,0.03393,0.1932,0.1527,0.02556,0.06651,0.228,0.01271,0.04249,0.1689,0.079,0.03546,0.07943,0.05892,0.05077,0.0839,0.06839,0.02045,0.1007,0.1856,0.01923,0.0,0.1891,0.281,0.04783,0.02681,0.0858,0.0739,0.02712,0.02853,0.3189,0.02606,0.04057,0.03296,0.02109,0.04944,0.055,0.06126,0.1201,0.03211,0.02783,0.03046,0.03735,0.06859,0.04686,0.02555,0.02047,0.1522,0.0236,0.008955,0.05485,0.145,0.07097,0.09657,0.008934,0.00247,0.06335,0.03614,0.01369,0.01402,0.2733,0.07741,0.2133,0.1594,0.03346,0.1126,0.01797,0.03534,0.01342,0.02087,0.09457,0.1204,0.01055,0.01993,0.109,0.05441,0.1698,0.04069,0.08817,0.1572,0.08777,0.1655,0.04055,0.06895,0.02966,0.02819,0.0716,0.02772,0.01206,0.01541,0.1007,0.3635,0.03476,0.03367,0.04859,0.101,0.1085,0.01479,0.2136,0.102,0.02948,0.02367,0.05539,0.0,0.05115,0.05835,0.05063,0.02224,0.05308,0.2236,0.02916,0.02995,0.05786,0.04548,0.1191,0.1544,0.05192,0.2256,0.04279,0.03649,0.01714,0.04445,0.117,0.007173,0.018,0.06824,0.08017,0.03609,0.1491,0.2188,0.07721,0.1357,0.05928,0.1676,0.0973,0.1188,0.08175,0.04063,0.05526,0.203,0.06726,0.03416,0.1445,0.08222,0.07486,0.04302,0.1569,0.1411,0.04825,0.0388,0.03332,0.231,0.005067,0.05385,0.0233,0.02565,0.04201,0.02958,0.101,0.03781,0.05282,0.042,0.01752,0.1523,0.05263,0.2085,0.1463,0.04515,0.0,0.09252,0.06737,0.1009,0.04105,0.02987,0.03688,0.02974,0.01012,0.04358,0.02337,0.01548,0.0,0.04824,0.01997,0.03996,0.06195,0.05999,0.005025,0.0,0.1029,0.1112,0.04462,0.0,0.255,0.3174,0.2439,0.144,0.09251,0.3514,0.0]},{\"axis\":{\"matches\":true},\"label\":\"concave points_mean\",\"values\":[0.1471,0.07017,0.1279,0.1052,0.1043,0.08089,0.074,0.05985,0.09353,0.08543,0.03323,0.06606,0.1118,0.05364,0.08025,0.07364,0.05259,0.1028,0.09498,0.04781,0.0311,0.02076,0.09756,0.08632,0.0917,0.1401,0.08783,0.07731,0.08751,0.07953,0.1244,0.05182,0.1203,0.07593,0.07752,0.06018,0.05598,0.02923,0.02899,0.05439,0.02031,0.05669,0.09961,0.06158,0.05252,0.1009,0.005917,0.0734,0.02749,0.03384,0.01115,0.01723,0.01349,0.106,0.03334,0.02278,0.08994,0.08123,0.004167,0.007799,0.0129,0.009259,0.08653,0.0218,0.06873,0.09029,0.01504,0.0223,0.04375,0.02864,0.07951,0.02872,0.07944,0.05069,0.02272,0.06638,0.06556,0.108,0.1604,0.02315,0.02233,0.06987,0.1845,0.1469,0.01863,0.08795,0.04938,0.08271,0.03745,0.07064,0.02957,0.07483,0.02648,0.0278,0.08815,0.08683,0.02941,0.007937,0.0335,0.05839,0.04489,0.0,0.0177,0.03029,0.01201,0.09601,0.03485,0.01921,0.1823,0.01899,0.01778,0.06021,0.07798,0.03068,0.01924,0.02008,0.02308,0.08923,0.09479,0.05596,0.02623,0.08665,0.2012,0.05778,0.028,0.01141,0.03085,0.05627,0.08534,0.1149,0.02882,0.08087,0.05613,0.05933,0.06847,0.02704,0.026,0.02875,0.08624,0.04796,0.0,0.05943,0.01861,0.03088,0.007875,0.03003,0.07415,0.03562,0.05532,0.01329,0.02645,0.02168,0.07857,0.01786,0.03483,0.02331,0.1054,0.02771,0.01963,0.006588,0.03738,0.09667,0.1286,0.02822,0.09702,0.01939,0.01698,0.06576,0.1043,0.03781,0.037,0.03438,0.1097,0.02583,0.0,0.0,0.03716,0.08866,0.001852,0.0133,0.1878,0.1496,0.05189,0.02361,0.03263,0.002404,0.05814,0.03239,0.01553,0.01654,0.06618,0.02864,0.0,0.04562,0.08878,0.02377,0.06526,0.05778,0.06772,0.0598,0.04107,0.07488,0.162,0.09176,0.03821,0.04079,0.01952,0.0539,0.05102,0.03157,0.09561,0.01393,0.1595,0.06597,0.06462,0.05602,0.03142,0.01071,0.08691,0.06637,0.02563,0.04451,0.01915,0.06462,0.02456,0.04603,0.01216,0.0378,0.02036,0.06861,0.109,0.003125,0.006434,0.0834,0.01667,0.01896,0.1237,0.06022,0.04408,0.08811,0.03731,0.01108,0.02854,0.02344,0.08886,0.0307,0.01105,0.0398,0.01615,0.02929,0.131,0.02069,0.0974,0.08353,0.08591,0.05246,0.1144,0.1242,0.1377,0.08399,0.09333,0.02837,0.07507,0.02847,0.06527,0.08646,0.02642,0.02142,0.01615,0.02867,0.00625,0.02755,0.1088,0.01407,0.04744,0.07404,0.003333,0.05843,0.01238,0.03711,0.09664,0.02763,0.09464,0.09052,0.0339,0.002924,0.03791,0.01171,0.05588,0.02173,0.06602,0.04819,0.0337,0.0228,0.01924,0.01917,0.01369,0.03515,0.01374,0.01875,0.1062,0.03099,0.128,0.0178,0.01502,0.01313,0.003261,0.003472,0.004419,0.008829,0.01148,0.01877,0.02548,0.008907,0.0,0.006423,0.005051,0.0795,0.04908,0.01699,0.03965,0.07726,0.034,0.1504,0.01692,0.02107,0.02733,0.005592,0.08488,0.07981,0.07041,0.0295,0.007583,0.002941,0.008535,0.09934,0.02098,0.0609,0.01775,0.141,0.04223,0.02292,0.03341,0.1103,0.0325,0.02037,0.008488,0.03528,0.02322,0.01787,0.01162,0.1242,0.1913,0.06553,0.01471,0.04391,0.05603,0.02088,0.02381,0.01406,0.005449,0.02424,0.01781,0.04835,0.01473,0.07785,0.1265,0.02027,0.08465,0.1501,0.08773,0.02657,0.1255,0.08941,0.02031,0.05397,0.05941,0.01117,0.02471,0.06367,0.0555,0.02074,0.02978,0.0288,0.02864,0.05271,0.02534,0.008507,0.02757,0.1021,0.01968,0.0,0.09113,0.1562,0.03326,0.03251,0.05381,0.04083,0.007246,0.01638,0.1198,0.01796,0.01883,0.0239,0.02054,0.02932,0.04528,0.01867,0.08824,0.02653,0.021,0.0248,0.005128,0.03876,0.02739,0.02179,0.01257,0.08481,0.02402,0.01076,0.01428,0.063,0.04497,0.04812,0.01967,0.005159,0.02218,0.01404,0.0137,0.01835,0.09711,0.02799,0.1259,0.08744,0.02877,0.06463,0.0209,0.02944,0.02293,0.02652,0.03613,0.05736,0.009937,0.01111,0.06254,0.04274,0.08293,0.0226,0.02925,0.1155,0.02386,0.09063,0.01945,0.06495,0.02272,0.03264,0.02017,0.02068,0.01762,0.01043,0.06431,0.1689,0.01737,0.01777,0.0287,0.02833,0.0351,0.005769,0.1002,0.05564,0.01514,0.02377,0.03221,0.0,0.01571,0.03078,0.03058,0.01339,0.01969,0.09194,0.01527,0.0207,0.05266,0.0316,0.06211,0.04846,0.02791,0.1194,0.03132,0.02307,0.01261,0.04178,0.07762,0.01149,0.01256,0.04951,0.05074,0.02369,0.09183,0.1121,0.06142,0.06759,0.03279,0.1003,0.05252,0.07038,0.02166,0.04268,0.04563,0.0852,0.02639,0.02541,0.08172,0.04349,0.04335,0.02594,0.09451,0.09431,0.05303,0.02995,0.02421,0.1471,0.005664,0.03783,0.02416,0.0151,0.03152,0.02647,0.06615,0.02798,0.0444,0.02157,0.0188,0.1015,0.02788,0.1322,0.06139,0.04531,0.0,0.01364,0.02594,0.0389,0.03027,0.03275,0.02369,0.02443,0.005495,0.02438,0.009615,0.00816,0.0,0.02257,0.01499,0.01282,0.02343,0.02738,0.01116,0.0,0.03736,0.04105,0.04304,0.0,0.09429,0.1474,0.1389,0.09791,0.05302,0.152,0.0]},{\"axis\":{\"matches\":true},\"label\":\"symmetry_mean\",\"values\":[0.2419,0.1812,0.2069,0.2597,0.1809,0.2087,0.1794,0.2196,0.235,0.203,0.1528,0.1842,0.2397,0.1847,0.2069,0.2303,0.1586,0.2164,0.1582,0.1885,0.1967,0.1815,0.2521,0.1769,0.1995,0.304,0.2252,0.1697,0.1926,0.1739,0.2183,0.2301,0.2248,0.1853,0.1998,0.1896,0.1885,0.1467,0.1565,0.172,0.1784,0.1895,0.231,0.1974,0.1746,0.1907,0.1769,0.2128,0.1675,0.1809,0.1495,0.1353,0.1868,0.2092,0.1616,0.192,0.1917,0.2027,0.1819,0.1683,0.2743,0.1828,0.1949,0.2341,0.1905,0.1953,0.1717,0.1516,0.2111,0.159,0.1582,0.1902,0.1927,0.1662,0.172,0.1798,0.2403,0.2152,0.2906,0.1718,0.1842,0.1942,0.1829,0.1634,0.2079,0.2132,0.2075,0.1953,0.193,0.2116,0.1685,0.1717,0.1386,0.1638,0.1855,0.2095,0.19,0.135,0.162,0.1879,0.1609,0.193,0.1739,0.1945,0.2217,0.1925,0.1801,0.1602,0.2556,0.1487,0.1584,0.1735,0.1704,0.1922,0.1649,0.1688,0.1305,0.2157,0.2096,0.2129,0.1667,0.1966,0.2655,0.1856,0.1422,0.1614,0.1761,0.1946,0.2001,0.2202,0.188,0.1931,0.216,0.1816,0.1692,0.1585,0.1339,0.1734,0.1957,0.1771,0.1903,0.1861,0.1645,0.1778,0.1399,0.1995,0.2678,0.1744,0.1724,0.1473,0.254,0.2222,0.2548,0.183,0.1822,0.197,0.1971,0.1844,0.159,0.1442,0.1993,0.1741,0.2027,0.1551,0.1801,0.1515,0.1381,0.1893,0.1538,0.178,0.1959,0.1598,0.1966,0.1566,0.1928,0.1722,0.1669,0.1794,0.1395,0.1466,0.18,0.2395,0.1618,0.1167,0.1727,0.1703,0.1621,0.1516,0.1718,0.1667,0.2384,0.1694,0.1653,0.1943,0.1737,0.1829,0.1834,0.177,0.1767,0.195,0.1979,0.1506,0.22,0.2251,0.1925,0.1594,0.1934,0.2026,0.185,0.1359,0.1765,0.1533,0.1648,0.1308,0.2235,0.2106,0.1967,0.1964,0.2094,0.1428,0.136,0.1962,0.191,0.1935,0.1496,0.2075,0.1788,0.1881,0.1514,0.2123,0.2131,0.1869,0.1845,0.1448,0.1551,0.1517,0.1909,0.1467,0.1342,0.1809,0.1717,0.1546,0.2054,0.1773,0.1978,0.1737,0.1487,0.1596,0.1897,0.1883,0.2205,0.1834,0.1733,0.1813,0.1776,0.1908,0.1893,0.2398,0.2495,0.2091,0.1814,0.1564,0.2108,0.1547,0.1867,0.1769,0.1922,0.1635,0.201,0.1668,0.1508,0.1769,0.1721,0.2081,0.1538,0.2015,0.1954,0.155,0.1573,0.211,0.1902,0.2101,0.1893,0.1876,0.1432,0.1697,0.1588,0.1337,0.2595,0.2013,0.1714,0.1879,0.173,0.1875,0.1638,0.1592,0.1449,0.1619,0.1635,0.1695,0.1792,0.1781,0.2249,0.1482,0.1411,0.1935,0.1632,0.1788,0.1365,0.1453,0.1936,0.1632,0.1601,0.1833,0.2163,0.1215,0.1673,0.1807,0.233,0.1472,0.1743,0.1928,0.1543,0.2569,0.1638,0.1707,0.1373,0.1382,0.1948,0.1869,0.1782,0.1761,0.194,0.1773,0.1539,0.1727,0.1652,0.1953,0.189,0.1797,0.1912,0.2036,0.1776,0.2082,0.2009,0.1633,0.1555,0.1521,0.1634,0.2459,0.1671,0.2375,0.1956,0.1647,0.169,0.1533,0.2035,0.1424,0.193,0.1506,0.1528,0.1815,0.1759,0.1495,0.165,0.1618,0.1875,0.1695,0.1717,0.1824,0.2175,0.1721,0.1973,0.1571,0.1872,0.199,0.2188,0.1421,0.1792,0.2196,0.2018,0.2003,0.1203,0.1779,0.1617,0.1627,0.1646,0.1607,0.181,0.1989,0.18,0.1985,0.1929,0.2162,0.1937,0.1641,0.1806,0.1574,0.1535,0.1847,0.2113,0.1601,0.1874,0.1735,0.1571,0.1486,0.1735,0.158,0.1992,0.1966,0.1601,0.1714,0.1274,0.1944,0.1852,0.2019,0.2025,0.2085,0.1583,0.1615,0.2031,0.2086,0.1886,0.1848,0.2538,0.163,0.1925,0.2016,0.1511,0.1459,0.2041,0.1811,0.1724,0.1943,0.1573,0.1669,0.1861,0.1714,0.1555,0.1589,0.1489,0.1467,0.1405,0.2372,0.172,0.182,0.1713,0.1893,0.1473,0.1554,0.1349,0.1663,0.1615,0.165,0.1799,0.1375,0.1799,0.1619,0.1667,0.1621,0.1793,0.2061,0.1707,0.1516,0.1454,0.1601,0.1562,0.168,0.1696,0.1957,0.2238,0.1854,0.1687,0.1701,0.1861,0.1705,0.1506,0.1813,0.1779,0.2151,0.1464,0.1579,0.1779,0.1732,0.1784,0.2082,0.1409,0.1823,0.1853,0.1846,0.1544,0.122,0.2116,0.1613,0.1713,0.1487,0.1641,0.1526,0.1832,0.1848,0.1668,0.2275,0.1943,0.1505,0.2378,0.2057,0.2124,0.1954,0.1711,0.1807,0.1499,0.1659,0.2116,0.1739,0.1561,0.1927,0.186,0.1802,0.1709,0.212,0.2197,0.1991,0.1637,0.1714,0.1387,0.1678,0.1723,0.1689,0.1976,0.1657,0.1598,0.1859,0.1631,0.2166,0.1619,0.2127,0.1926,0.2131,0.187,0.2037,0.1818,0.1872,0.184,0.1628,0.162,0.1664,0.1885,0.1669,0.158,0.1976,0.1661,0.203,0.1539,0.1692,0.1566,0.1593,0.1791,0.1742,0.1454,0.1388,0.1537,0.106,0.2128,0.2149,0.1726,0.1752,0.159,0.2397,0.1587]},{\"axis\":{\"matches\":true},\"label\":\"fractal_dimension_mean\",\"values\":[0.07871,0.05667,0.05999,0.09744,0.05883,0.07613,0.05742,0.07451,0.07389,0.08243,0.05697,0.06082,0.078,0.05338,0.07682,0.07077,0.05922,0.07356,0.05395,0.05766,0.06811,0.06905,0.07032,0.05278,0.0633,0.07413,0.06924,0.05699,0.0654,0.06149,0.06197,0.07799,0.06382,0.06261,0.06515,0.05656,0.06125,0.05863,0.05504,0.06419,0.05587,0.0687,0.06343,0.06782,0.06177,0.06049,0.06503,0.06777,0.06043,0.05718,0.05888,0.05953,0.0611,0.0631,0.05684,0.05907,0.05961,0.06758,0.05501,0.07187,0.0696,0.06757,0.07292,0.06963,0.0659,0.06654,0.06899,0.05667,0.08046,0.05653,0.05461,0.0898,0.06487,0.06566,0.05914,0.05391,0.06641,0.06673,0.08142,0.05997,0.07005,0.06902,0.06782,0.07224,0.05968,0.06022,0.05636,0.05629,0.06404,0.06346,0.05866,0.06097,0.05318,0.0571,0.06284,0.05649,0.06635,0.0689,0.06582,0.0639,0.05871,0.07818,0.05677,0.06322,0.06481,0.07692,0.0652,0.06066,0.07039,0.06529,0.07065,0.0707,0.07769,0.07782,0.07633,0.06194,0.07163,0.06768,0.07331,0.05025,0.06113,0.06213,0.06877,0.06402,0.05823,0.0589,0.0613,0.05044,0.06467,0.06113,0.06471,0.05796,0.05891,0.05723,0.05727,0.06065,0.05945,0.05865,0.06216,0.06072,0.06422,0.06248,0.06562,0.06235,0.05688,0.07839,0.07371,0.06493,0.06081,0.0558,0.06087,0.08261,0.09296,0.06105,0.06207,0.06228,0.06166,0.05268,0.05907,0.05743,0.06453,0.05176,0.06082,0.06761,0.05553,0.05266,0.064,0.05534,0.06365,0.0565,0.05955,0.05671,0.07069,0.06669,0.05975,0.06724,0.08116,0.06323,0.05234,0.06133,0.0577,0.07398,0.05549,0.06217,0.06317,0.06048,0.05425,0.06095,0.0578,0.05474,0.07542,0.06287,0.06447,0.06937,0.06672,0.05667,0.06877,0.0534,0.05529,0.06466,0.06013,0.05491,0.06229,0.07421,0.06373,0.05986,0.06285,0.05223,0.0731,0.05526,0.05024,0.06057,0.05525,0.05866,0.06433,0.06916,0.06314,0.06315,0.05581,0.05313,0.06344,0.06303,0.06908,0.06303,0.05674,0.05448,0.0645,0.05907,0.06019,0.07254,0.06325,0.05628,0.05828,0.05592,0.06403,0.05835,0.06309,0.05177,0.06129,0.05966,0.0566,0.05754,0.07669,0.05429,0.06,0.0644,0.05635,0.06409,0.06329,0.06168,0.05898,0.05934,0.06697,0.05613,0.05647,0.0613,0.06232,0.07596,0.08104,0.0665,0.05572,0.05307,0.05464,0.05443,0.0558,0.05674,0.06491,0.05859,0.05769,0.06862,0.05376,0.0627,0.06194,0.06312,0.0551,0.05875,0.05821,0.04996,0.0552,0.05853,0.0622,0.06113,0.05892,0.06684,0.05935,0.05855,0.06766,0.05581,0.06233,0.05955,0.07192,0.05852,0.0647,0.05715,0.061,0.05912,0.06031,0.06287,0.05586,0.06556,0.06552,0.06249,0.07469,0.066,0.06243,0.05878,0.05894,0.06833,0.05335,0.05518,0.06128,0.05255,0.0614,0.061,0.07359,0.05673,0.05649,0.05664,0.08743,0.05561,0.07279,0.05096,0.06476,0.0667,0.06129,0.05984,0.057,0.0607,0.06277,0.06532,0.05976,0.0654,0.06028,0.06081,0.05945,0.06071,0.07238,0.06083,0.06331,0.05506,0.06412,0.07125,0.06907,0.05715,0.06506,0.07005,0.06048,0.05912,0.06372,0.06581,0.05731,0.07603,0.06121,0.06464,0.06083,0.06184,0.06501,0.05883,0.06621,0.06959,0.05185,0.05696,0.06183,0.05593,0.05701,0.05557,0.0602,0.05916,0.05054,0.0614,0.06218,0.05544,0.06183,0.05478,0.05669,0.06572,0.0845,0.05763,0.05897,0.0795,0.06914,0.06246,0.06659,0.06588,0.05594,0.05416,0.06154,0.05474,0.07252,0.05884,0.06569,0.07098,0.06744,0.06606,0.06161,0.05764,0.06079,0.0575,0.06214,0.06019,0.07115,0.05541,0.05899,0.062,0.05708,0.06615,0.05875,0.06114,0.06069,0.05597,0.05913,0.0634,0.06724,0.05913,0.05294,0.0629,0.06601,0.06864,0.06275,0.06144,0.06267,0.07406,0.0632,0.06181,0.07029,0.06439,0.06915,0.05977,0.06148,0.05544,0.06898,0.07102,0.06053,0.06132,0.05703,0.06544,0.06347,0.05898,0.05673,0.05586,0.0664,0.05407,0.05848,0.05768,0.0578,0.0685,0.05916,0.05886,0.05746,0.05661,0.06612,0.05391,0.06104,0.06121,0.05826,0.06016,0.06166,0.05584,0.05449,0.05952,0.06281,0.05623,0.05433,0.05859,0.05549,0.06432,0.0602,0.06412,0.07369,0.07255,0.06413,0.05698,0.05669,0.0596,0.06837,0.05913,0.06009,0.05536,0.06574,0.06578,0.06284,0.05594,0.06639,0.06088,0.06259,0.07325,0.05355,0.06115,0.06401,0.05325,0.05976,0.05243,0.06077,0.06013,0.05888,0.05748,0.06854,0.06046,0.06697,0.06222,0.06869,0.07237,0.06612,0.05484,0.09502,0.09575,0.06894,0.07976,0.05657,0.07083,0.06758,0.05348,0.07325,0.0564,0.05915,0.06211,0.05941,0.06188,0.07253,0.06623,0.07696,0.06739,0.06343,0.06843,0.06891,0.07126,0.06317,0.05808,0.06457,0.06608,0.06677,0.06461,0.06155,0.05419,0.06408,0.06251,0.05982,0.07405,0.07285,0.07751,0.06782,0.06341,0.0568,0.05781,0.06688,0.05801,0.06201,0.06714,0.06235,0.06328,0.05948,0.06552,0.05637,0.06576,0.05708,0.06127,0.06331,0.06059,0.06147,0.0657,0.06171,0.05502,0.07152,0.06879,0.05623,0.05533,0.05648,0.07016,0.05884]},{\"axis\":{\"matches\":true},\"label\":\"outcome\",\"values\":[1,1,1,1,1,1,1,1,1,1,1,1,1,1,1,1,1,1,1,0,0,0,1,1,1,1,1,1,1,1,1,1,1,1,1,1,1,0,1,1,1,1,1,1,1,1,0,1,0,0,0,0,0,1,1,0,1,1,0,0,0,0,1,0,1,1,0,0,0,0,1,0,1,1,0,1,0,1,1,0,0,0,1,1,0,1,1,1,0,0,0,1,0,0,1,1,0,0,0,1,1,0,0,0,0,1,0,0,1,0,0,0,0,0,0,0,0,1,1,1,0,1,1,0,0,0,1,1,0,1,0,1,1,0,1,1,0,0,1,0,0,1,0,0,0,0,1,0,0,0,0,0,0,0,0,0,1,0,0,0,0,1,1,0,1,0,0,1,1,0,0,1,1,0,0,0,0,1,0,0,1,1,1,0,1,0,1,0,0,0,1,0,0,1,1,0,1,1,1,1,0,1,1,1,0,1,0,1,0,0,1,0,1,1,1,1,0,0,1,1,0,0,0,1,0,0,0,0,0,1,1,0,0,1,0,0,1,1,0,1,0,0,0,0,1,0,0,0,0,0,1,0,1,1,1,1,1,1,1,1,1,1,1,1,1,1,0,0,0,0,0,0,1,0,1,0,0,1,0,0,1,0,1,1,0,0,0,0,0,0,0,0,0,0,0,0,0,1,0,0,1,0,1,0,0,0,0,0,0,0,0,0,0,0,0,0,0,1,0,0,0,1,0,1,0,0,0,0,1,1,1,0,0,0,0,1,0,1,0,1,0,0,0,1,0,0,0,0,0,0,0,1,1,1,0,0,0,0,0,0,0,0,0,0,0,1,1,0,1,1,1,0,1,1,0,0,0,0,0,1,0,0,0,0,0,1,0,0,0,1,0,0,1,1,0,0,0,0,0,0,1,0,0,0,0,0,0,0,1,0,0,0,0,0,1,0,0,1,0,0,0,0,0,0,0,0,0,0,0,0,1,0,1,1,0,1,0,0,0,0,0,1,0,0,1,0,1,0,0,1,0,1,0,0,0,0,0,0,0,0,1,1,0,0,0,0,0,0,1,0,0,0,0,0,0,0,0,0,0,1,0,0,0,0,0,0,0,1,0,1,0,0,1,0,0,0,0,0,1,1,0,1,0,1,0,0,0,0,0,1,0,0,1,0,1,0,1,1,0,0,0,1,0,0,0,0,0,0,0,0,0,0,0,1,0,1,1,0,0,0,0,0,0,0,0,0,0,0,0,0,0,0,0,0,0,0,0,0,0,0,0,0,1,1,1,1,1,1,0]}],\"hovertemplate\":\"%{xaxis.title.text}=%{x}<br>%{yaxis.title.text}=%{y}<extra></extra>\",\"legendgroup\":\"\",\"marker\":{\"color\":\"#636efa\",\"symbol\":\"circle\"},\"name\":\"\",\"showlegend\":false,\"type\":\"splom\"}],                        {\"template\":{\"data\":{\"bar\":[{\"error_x\":{\"color\":\"#2a3f5f\"},\"error_y\":{\"color\":\"#2a3f5f\"},\"marker\":{\"line\":{\"color\":\"#E5ECF6\",\"width\":0.5},\"pattern\":{\"fillmode\":\"overlay\",\"size\":10,\"solidity\":0.2}},\"type\":\"bar\"}],\"barpolar\":[{\"marker\":{\"line\":{\"color\":\"#E5ECF6\",\"width\":0.5},\"pattern\":{\"fillmode\":\"overlay\",\"size\":10,\"solidity\":0.2}},\"type\":\"barpolar\"}],\"carpet\":[{\"aaxis\":{\"endlinecolor\":\"#2a3f5f\",\"gridcolor\":\"white\",\"linecolor\":\"white\",\"minorgridcolor\":\"white\",\"startlinecolor\":\"#2a3f5f\"},\"baxis\":{\"endlinecolor\":\"#2a3f5f\",\"gridcolor\":\"white\",\"linecolor\":\"white\",\"minorgridcolor\":\"white\",\"startlinecolor\":\"#2a3f5f\"},\"type\":\"carpet\"}],\"choropleth\":[{\"colorbar\":{\"outlinewidth\":0,\"ticks\":\"\"},\"type\":\"choropleth\"}],\"contour\":[{\"colorbar\":{\"outlinewidth\":0,\"ticks\":\"\"},\"colorscale\":[[0.0,\"#0d0887\"],[0.1111111111111111,\"#46039f\"],[0.2222222222222222,\"#7201a8\"],[0.3333333333333333,\"#9c179e\"],[0.4444444444444444,\"#bd3786\"],[0.5555555555555556,\"#d8576b\"],[0.6666666666666666,\"#ed7953\"],[0.7777777777777778,\"#fb9f3a\"],[0.8888888888888888,\"#fdca26\"],[1.0,\"#f0f921\"]],\"type\":\"contour\"}],\"contourcarpet\":[{\"colorbar\":{\"outlinewidth\":0,\"ticks\":\"\"},\"type\":\"contourcarpet\"}],\"heatmap\":[{\"colorbar\":{\"outlinewidth\":0,\"ticks\":\"\"},\"colorscale\":[[0.0,\"#0d0887\"],[0.1111111111111111,\"#46039f\"],[0.2222222222222222,\"#7201a8\"],[0.3333333333333333,\"#9c179e\"],[0.4444444444444444,\"#bd3786\"],[0.5555555555555556,\"#d8576b\"],[0.6666666666666666,\"#ed7953\"],[0.7777777777777778,\"#fb9f3a\"],[0.8888888888888888,\"#fdca26\"],[1.0,\"#f0f921\"]],\"type\":\"heatmap\"}],\"heatmapgl\":[{\"colorbar\":{\"outlinewidth\":0,\"ticks\":\"\"},\"colorscale\":[[0.0,\"#0d0887\"],[0.1111111111111111,\"#46039f\"],[0.2222222222222222,\"#7201a8\"],[0.3333333333333333,\"#9c179e\"],[0.4444444444444444,\"#bd3786\"],[0.5555555555555556,\"#d8576b\"],[0.6666666666666666,\"#ed7953\"],[0.7777777777777778,\"#fb9f3a\"],[0.8888888888888888,\"#fdca26\"],[1.0,\"#f0f921\"]],\"type\":\"heatmapgl\"}],\"histogram\":[{\"marker\":{\"pattern\":{\"fillmode\":\"overlay\",\"size\":10,\"solidity\":0.2}},\"type\":\"histogram\"}],\"histogram2d\":[{\"colorbar\":{\"outlinewidth\":0,\"ticks\":\"\"},\"colorscale\":[[0.0,\"#0d0887\"],[0.1111111111111111,\"#46039f\"],[0.2222222222222222,\"#7201a8\"],[0.3333333333333333,\"#9c179e\"],[0.4444444444444444,\"#bd3786\"],[0.5555555555555556,\"#d8576b\"],[0.6666666666666666,\"#ed7953\"],[0.7777777777777778,\"#fb9f3a\"],[0.8888888888888888,\"#fdca26\"],[1.0,\"#f0f921\"]],\"type\":\"histogram2d\"}],\"histogram2dcontour\":[{\"colorbar\":{\"outlinewidth\":0,\"ticks\":\"\"},\"colorscale\":[[0.0,\"#0d0887\"],[0.1111111111111111,\"#46039f\"],[0.2222222222222222,\"#7201a8\"],[0.3333333333333333,\"#9c179e\"],[0.4444444444444444,\"#bd3786\"],[0.5555555555555556,\"#d8576b\"],[0.6666666666666666,\"#ed7953\"],[0.7777777777777778,\"#fb9f3a\"],[0.8888888888888888,\"#fdca26\"],[1.0,\"#f0f921\"]],\"type\":\"histogram2dcontour\"}],\"mesh3d\":[{\"colorbar\":{\"outlinewidth\":0,\"ticks\":\"\"},\"type\":\"mesh3d\"}],\"parcoords\":[{\"line\":{\"colorbar\":{\"outlinewidth\":0,\"ticks\":\"\"}},\"type\":\"parcoords\"}],\"pie\":[{\"automargin\":true,\"type\":\"pie\"}],\"scatter\":[{\"marker\":{\"colorbar\":{\"outlinewidth\":0,\"ticks\":\"\"}},\"type\":\"scatter\"}],\"scatter3d\":[{\"line\":{\"colorbar\":{\"outlinewidth\":0,\"ticks\":\"\"}},\"marker\":{\"colorbar\":{\"outlinewidth\":0,\"ticks\":\"\"}},\"type\":\"scatter3d\"}],\"scattercarpet\":[{\"marker\":{\"colorbar\":{\"outlinewidth\":0,\"ticks\":\"\"}},\"type\":\"scattercarpet\"}],\"scattergeo\":[{\"marker\":{\"colorbar\":{\"outlinewidth\":0,\"ticks\":\"\"}},\"type\":\"scattergeo\"}],\"scattergl\":[{\"marker\":{\"colorbar\":{\"outlinewidth\":0,\"ticks\":\"\"}},\"type\":\"scattergl\"}],\"scattermapbox\":[{\"marker\":{\"colorbar\":{\"outlinewidth\":0,\"ticks\":\"\"}},\"type\":\"scattermapbox\"}],\"scatterpolar\":[{\"marker\":{\"colorbar\":{\"outlinewidth\":0,\"ticks\":\"\"}},\"type\":\"scatterpolar\"}],\"scatterpolargl\":[{\"marker\":{\"colorbar\":{\"outlinewidth\":0,\"ticks\":\"\"}},\"type\":\"scatterpolargl\"}],\"scatterternary\":[{\"marker\":{\"colorbar\":{\"outlinewidth\":0,\"ticks\":\"\"}},\"type\":\"scatterternary\"}],\"surface\":[{\"colorbar\":{\"outlinewidth\":0,\"ticks\":\"\"},\"colorscale\":[[0.0,\"#0d0887\"],[0.1111111111111111,\"#46039f\"],[0.2222222222222222,\"#7201a8\"],[0.3333333333333333,\"#9c179e\"],[0.4444444444444444,\"#bd3786\"],[0.5555555555555556,\"#d8576b\"],[0.6666666666666666,\"#ed7953\"],[0.7777777777777778,\"#fb9f3a\"],[0.8888888888888888,\"#fdca26\"],[1.0,\"#f0f921\"]],\"type\":\"surface\"}],\"table\":[{\"cells\":{\"fill\":{\"color\":\"#EBF0F8\"},\"line\":{\"color\":\"white\"}},\"header\":{\"fill\":{\"color\":\"#C8D4E3\"},\"line\":{\"color\":\"white\"}},\"type\":\"table\"}]},\"layout\":{\"annotationdefaults\":{\"arrowcolor\":\"#2a3f5f\",\"arrowhead\":0,\"arrowwidth\":1},\"autotypenumbers\":\"strict\",\"coloraxis\":{\"colorbar\":{\"outlinewidth\":0,\"ticks\":\"\"}},\"colorscale\":{\"diverging\":[[0,\"#8e0152\"],[0.1,\"#c51b7d\"],[0.2,\"#de77ae\"],[0.3,\"#f1b6da\"],[0.4,\"#fde0ef\"],[0.5,\"#f7f7f7\"],[0.6,\"#e6f5d0\"],[0.7,\"#b8e186\"],[0.8,\"#7fbc41\"],[0.9,\"#4d9221\"],[1,\"#276419\"]],\"sequential\":[[0.0,\"#0d0887\"],[0.1111111111111111,\"#46039f\"],[0.2222222222222222,\"#7201a8\"],[0.3333333333333333,\"#9c179e\"],[0.4444444444444444,\"#bd3786\"],[0.5555555555555556,\"#d8576b\"],[0.6666666666666666,\"#ed7953\"],[0.7777777777777778,\"#fb9f3a\"],[0.8888888888888888,\"#fdca26\"],[1.0,\"#f0f921\"]],\"sequentialminus\":[[0.0,\"#0d0887\"],[0.1111111111111111,\"#46039f\"],[0.2222222222222222,\"#7201a8\"],[0.3333333333333333,\"#9c179e\"],[0.4444444444444444,\"#bd3786\"],[0.5555555555555556,\"#d8576b\"],[0.6666666666666666,\"#ed7953\"],[0.7777777777777778,\"#fb9f3a\"],[0.8888888888888888,\"#fdca26\"],[1.0,\"#f0f921\"]]},\"colorway\":[\"#636efa\",\"#EF553B\",\"#00cc96\",\"#ab63fa\",\"#FFA15A\",\"#19d3f3\",\"#FF6692\",\"#B6E880\",\"#FF97FF\",\"#FECB52\"],\"font\":{\"color\":\"#2a3f5f\"},\"geo\":{\"bgcolor\":\"white\",\"lakecolor\":\"white\",\"landcolor\":\"#E5ECF6\",\"showlakes\":true,\"showland\":true,\"subunitcolor\":\"white\"},\"hoverlabel\":{\"align\":\"left\"},\"hovermode\":\"closest\",\"mapbox\":{\"style\":\"light\"},\"paper_bgcolor\":\"white\",\"plot_bgcolor\":\"#E5ECF6\",\"polar\":{\"angularaxis\":{\"gridcolor\":\"white\",\"linecolor\":\"white\",\"ticks\":\"\"},\"bgcolor\":\"#E5ECF6\",\"radialaxis\":{\"gridcolor\":\"white\",\"linecolor\":\"white\",\"ticks\":\"\"}},\"scene\":{\"xaxis\":{\"backgroundcolor\":\"#E5ECF6\",\"gridcolor\":\"white\",\"gridwidth\":2,\"linecolor\":\"white\",\"showbackground\":true,\"ticks\":\"\",\"zerolinecolor\":\"white\"},\"yaxis\":{\"backgroundcolor\":\"#E5ECF6\",\"gridcolor\":\"white\",\"gridwidth\":2,\"linecolor\":\"white\",\"showbackground\":true,\"ticks\":\"\",\"zerolinecolor\":\"white\"},\"zaxis\":{\"backgroundcolor\":\"#E5ECF6\",\"gridcolor\":\"white\",\"gridwidth\":2,\"linecolor\":\"white\",\"showbackground\":true,\"ticks\":\"\",\"zerolinecolor\":\"white\"}},\"shapedefaults\":{\"line\":{\"color\":\"#2a3f5f\"}},\"ternary\":{\"aaxis\":{\"gridcolor\":\"white\",\"linecolor\":\"white\",\"ticks\":\"\"},\"baxis\":{\"gridcolor\":\"white\",\"linecolor\":\"white\",\"ticks\":\"\"},\"bgcolor\":\"#E5ECF6\",\"caxis\":{\"gridcolor\":\"white\",\"linecolor\":\"white\",\"ticks\":\"\"}},\"title\":{\"x\":0.05},\"xaxis\":{\"automargin\":true,\"gridcolor\":\"white\",\"linecolor\":\"white\",\"ticks\":\"\",\"title\":{\"standoff\":15},\"zerolinecolor\":\"white\",\"zerolinewidth\":2},\"yaxis\":{\"automargin\":true,\"gridcolor\":\"white\",\"linecolor\":\"white\",\"ticks\":\"\",\"title\":{\"standoff\":15},\"zerolinecolor\":\"white\",\"zerolinewidth\":2}}},\"legend\":{\"tracegroupgap\":0},\"margin\":{\"t\":60},\"dragmode\":\"select\"},                        {\"responsive\": true}                    ).then(function(){\n                            \nvar gd = document.getElementById('7f4fa5ad-f07b-4aca-84b1-7842f99bc4f0');\nvar x = new MutationObserver(function (mutations, observer) {{\n        var display = window.getComputedStyle(gd).display;\n        if (!display || display === 'none') {{\n            console.log([gd, 'removed!']);\n            Plotly.purge(gd);\n            observer.disconnect();\n        }}\n}});\n\n// Listen for the removal of the full notebook cells\nvar notebookContainer = gd.closest('#notebook-container');\nif (notebookContainer) {{\n    x.observe(notebookContainer, {childList: true});\n}}\n\n// Listen for the clearing of the current output cell\nvar outputEl = gd.closest('.output');\nif (outputEl) {{\n    x.observe(outputEl, {childList: true});\n}}\n\n                        })                };                            </script>        </div>\n</body>\n</html>"
     },
     "execution_count": 23,
     "metadata": {
     },
     "output_type": "execute_result"
    }
   ],
   "source": [
    "# Visualization 1 here\n",
    "bcmatrix = breast_cancer[['radius_mean', 'texture_mean', 'perimeter_mean',\n",
    "       'area_mean', 'smoothness_mean', 'compactness_mean', 'concavity_mean',\n",
    "       'concave points_mean', 'symmetry_mean', 'fractal_dimension_mean', 'outcome']]\n",
    "fig = px.scatter_matrix(bcmatrix)\n",
    "fig.show()"
   ]
  },
  {
   "cell_type": "code",
   "execution_count": 24,
   "metadata": {
    "collapsed": false,
    "id": "oQXBTNye681E"
   },
   "outputs": [
    {
     "data": {
      "text/html": "<html>\n<head><meta charset=\"utf-8\" /></head>\n<body>\n    <div>            <script src=\"https://cdnjs.cloudflare.com/ajax/libs/mathjax/2.7.5/MathJax.js?config=TeX-AMS-MML_SVG\"></script><script type=\"text/javascript\">if (window.MathJax) {MathJax.Hub.Config({SVG: {font: \"STIX-Web\"}});}</script>                <script type=\"text/javascript\">window.PlotlyConfig = {MathJaxConfig: 'local'};</script>\n        <script src=\"https://cdn.plot.ly/plotly-2.9.0.min.js\"></script>                <div id=\"6f66091e-3c5b-4ba9-8591-8bd2d7df327f\" class=\"plotly-graph-div\" style=\"height:525px; width:100%;\"></div>            <script type=\"text/javascript\">                                    window.PLOTLYENV=window.PLOTLYENV || {};                                    if (document.getElementById(\"6f66091e-3c5b-4ba9-8591-8bd2d7df327f\")) {                    Plotly.newPlot(                        \"6f66091e-3c5b-4ba9-8591-8bd2d7df327f\",                        [{\"hovertemplate\":\"outcome=1<br>radius_mean=%{x}<br>texture_mean=%{y}<extra></extra>\",\"legendgroup\":\"1\",\"marker\":{\"color\":\"#636efa\",\"symbol\":\"circle\"},\"mode\":\"markers\",\"name\":\"1\",\"orientation\":\"v\",\"showlegend\":true,\"x\":[17.99,20.57,19.69,11.42,20.29,12.45,18.25,13.71,13.0,12.46,16.02,15.78,19.17,15.85,13.73,14.54,14.68,16.13,19.81,15.34,21.16,16.65,17.14,14.58,18.61,15.3,17.57,18.63,11.84,17.02,19.27,16.13,16.74,14.25,14.99,13.48,13.44,10.95,19.07,13.28,13.17,18.65,13.17,18.22,15.1,19.21,14.71,14.25,12.68,14.78,18.94,17.2,13.8,16.07,18.05,20.18,25.22,19.1,18.46,14.48,19.02,15.37,15.06,20.26,14.42,13.61,13.11,22.27,14.87,15.78,17.95,18.66,24.25,13.61,19.0,19.79,15.46,16.16,18.45,12.77,14.95,16.11,11.8,17.68,19.19,19.59,23.27,16.78,17.47,13.43,15.46,16.46,27.22,21.09,15.7,15.28,18.31,14.22,12.34,14.86,13.77,18.08,19.18,14.45,17.54,23.29,13.81,15.12,17.01,20.58,28.11,17.42,14.19,13.86,19.8,19.53,15.75,12.83,17.05,20.51,23.21,20.48,17.46,19.4,20.94,19.73,17.3,19.45,13.96,19.55,15.32,15.66,15.53,20.31,17.35,17.29,15.61,17.19,20.73,21.75,17.93,18.81,19.16,19.4,16.24,11.76,19.53,20.09,18.22,20.16,20.34,16.27,16.26,16.03,17.06,18.77,23.51,19.68,15.75,25.73,15.08,20.44,20.2,21.71,22.01,16.35,21.37,20.64,11.08,14.6,19.55,15.49,21.61,17.91,17.99,15.13,15.5,14.9,20.18,18.82,13.98,17.27,18.03,17.75,21.1,19.59,17.08,27.42,17.6,16.25,19.44,16.69,18.01,18.49,20.59,13.82,23.09,15.46,13.4,15.05,18.31,19.89,24.63,20.47,20.55,14.27,15.22,20.92,21.56,20.13,16.6,20.6],\"xaxis\":\"x\",\"y\":[10.38,17.77,21.25,20.38,14.34,15.7,19.98,20.83,21.82,24.04,23.24,17.89,24.8,23.95,22.61,27.54,20.13,20.68,22.15,14.26,23.04,21.38,16.4,21.53,20.25,25.27,15.05,25.11,18.7,23.98,26.47,17.88,21.59,21.72,25.2,20.82,21.58,21.35,24.81,20.28,21.81,17.6,18.66,18.7,22.02,18.57,21.59,22.15,23.84,23.94,21.31,24.52,15.79,19.65,16.15,23.97,24.91,26.29,18.52,21.46,24.59,22.76,19.83,23.03,19.77,24.98,15.56,19.67,16.67,22.91,20.01,17.12,20.2,24.69,18.91,25.12,19.48,21.54,21.91,22.47,17.57,18.05,16.58,20.74,15.94,18.15,22.04,18.8,24.68,19.63,11.89,20.11,21.87,26.57,20.31,22.41,18.58,23.12,26.86,23.21,22.29,21.84,22.49,20.22,19.32,26.67,23.75,16.68,20.26,22.14,18.47,25.56,23.81,16.93,21.56,32.47,20.25,22.33,19.08,27.81,26.97,21.46,39.28,23.5,23.56,19.82,17.08,19.33,17.05,28.77,17.27,23.2,33.56,27.06,23.06,22.13,19.38,22.07,31.12,20.99,24.48,19.98,26.6,18.18,18.77,18.14,18.9,23.86,18.87,19.66,21.51,20.71,21.88,15.51,21.0,21.43,24.27,21.68,19.22,17.46,25.74,21.78,26.83,17.25,21.9,23.29,15.1,17.35,18.83,23.29,23.21,19.97,22.28,21.02,20.66,29.81,21.08,22.53,19.54,21.97,19.62,25.42,16.85,28.03,20.52,25.0,27.15,26.27,23.33,19.51,18.82,20.2,20.56,17.52,21.24,24.49,19.83,23.95,20.52,19.07,20.58,20.26,21.6,20.67,20.86,22.55,30.62,25.09,22.39,28.25,28.08,29.33],\"yaxis\":\"y\",\"type\":\"scatter\"},{\"hovertemplate\":\"outcome=0<br>radius_mean=%{x}<br>texture_mean=%{y}<extra></extra>\",\"legendgroup\":\"0\",\"marker\":{\"color\":\"#EF553B\",\"symbol\":\"circle\"},\"mode\":\"markers\",\"name\":\"0\",\"orientation\":\"v\",\"showlegend\":true,\"x\":[13.54,13.08,9.504,13.03,8.196,12.05,13.49,11.76,13.64,11.94,11.52,13.05,8.618,10.17,8.598,9.173,9.465,11.31,9.029,12.78,8.888,12.31,13.53,12.86,11.45,13.34,12.0,12.36,14.64,14.62,13.27,13.45,12.18,9.787,11.6,6.981,12.18,9.876,10.49,11.64,12.36,11.34,9.777,12.63,14.26,10.51,8.726,11.93,8.95,11.41,14.5,13.37,13.85,15.1,12.19,15.71,11.71,11.43,11.28,9.738,11.43,12.9,10.75,11.9,14.95,14.44,13.74,13.0,8.219,9.731,11.15,13.15,12.25,16.84,12.06,10.9,11.75,12.34,14.97,10.8,14.97,12.32,11.08,10.66,8.671,9.904,13.01,12.81,11.41,10.08,11.71,11.81,12.3,12.77,9.72,12.91,12.23,12.47,9.876,13.11,15.27,11.84,11.89,10.2,13.65,13.56,10.18,13.27,14.34,10.44,15.0,12.62,11.32,11.22,9.567,14.03,14.22,13.64,12.42,11.3,13.75,10.48,13.2,12.89,10.65,11.52,11.5,10.6,13.59,12.87,10.71,14.29,11.29,9.742,11.89,11.33,13.59,13.85,11.74,12.89,12.58,11.94,12.89,11.26,11.37,14.41,14.96,12.95,11.85,12.72,13.77,10.91,14.26,10.51,12.46,10.49,11.46,11.6,13.2,9.0,13.5,13.05,11.7,14.61,12.76,11.54,8.597,12.49,12.18,9.042,12.43,10.25,12.86,12.2,12.67,14.11,12.03,12.98,11.22,11.25,12.3,12.99,10.05,14.42,9.606,11.06,11.71,10.26,12.06,14.76,11.47,11.95,11.66,11.14,12.56,13.05,13.87,8.878,9.436,12.54,13.3,12.76,16.5,13.4,12.21,15.19,13.69,16.17,10.57,13.46,13.66,11.27,11.04,12.05,12.39,13.28,12.21,13.88,11.27,10.26,8.734,12.1,14.06,13.51,12.8,11.06,11.8,11.93,12.96,12.94,12.34,10.94,16.14,12.85,12.27,11.36,11.04,9.397,14.99,11.89,9.405,12.7,11.16,11.57,14.69,11.61,13.66,9.742,10.03,10.48,10.8,11.13,12.72,12.4,14.86,12.87,14.04,13.85,14.02,10.97,13.78,10.57,11.99,14.8,14.53,11.87,12.0,14.53,12.62,13.38,11.63,13.21,13.0,9.755,14.4,11.6,13.17,13.24,13.14,9.668,11.62,9.667,12.04,14.92,12.27,10.88,12.83,14.2,13.9,11.49,12.16,13.9,13.47,13.7,15.73,12.45,14.64,11.68,12.25,17.85,12.46,13.16,14.87,12.65,12.47,15.04,12.54,9.268,9.676,12.22,11.06,16.3,11.74,14.81,14.58,11.34,12.88,12.75,9.295,11.26,13.71,9.847,8.571,13.46,12.34,13.94,12.07,11.75,11.67,13.68,10.96,11.69,7.729,7.691,11.54,14.47,14.74,13.21,13.87,13.62,10.32,10.26,9.683,10.82,10.86,11.13,12.77,9.333,12.88,10.29,10.16,9.423,14.59,11.51,14.05,11.2,7.76],\"xaxis\":\"x\",\"y\":[14.36,15.71,12.44,18.42,16.84,14.63,22.3,21.6,16.34,18.24,18.75,19.31,11.79,14.88,20.98,13.86,21.01,19.04,17.33,16.49,14.64,16.52,10.94,18.0,20.97,15.86,15.65,21.8,15.24,24.02,14.76,18.3,17.84,19.94,12.84,13.43,20.52,19.4,19.29,18.33,18.54,21.26,16.99,20.76,19.65,20.19,15.83,21.53,15.76,10.82,10.89,16.39,17.21,16.39,13.29,13.93,16.67,15.39,13.39,11.97,17.31,15.92,14.97,14.65,18.77,15.18,17.91,20.78,20.7,15.34,13.08,15.34,17.94,19.46,12.74,12.96,20.18,22.22,19.76,9.71,16.95,12.39,14.71,15.15,14.45,18.06,22.22,13.06,14.92,15.11,17.19,17.39,15.9,21.41,18.22,16.33,19.56,18.6,17.27,22.54,12.91,18.94,18.35,17.48,13.16,13.9,17.53,17.02,13.47,15.46,15.51,23.97,27.08,33.81,15.91,21.25,27.85,15.6,15.04,18.19,23.77,19.86,17.43,14.11,25.22,14.93,18.45,18.95,21.84,16.21,20.39,16.82,13.04,15.67,17.36,14.16,17.84,15.18,14.02,15.7,18.4,20.76,13.12,19.96,18.89,19.73,19.1,16.02,17.46,13.78,13.27,12.35,18.17,23.09,19.89,18.61,18.16,24.49,15.82,14.4,12.71,13.84,19.11,15.69,13.37,10.72,18.6,16.85,14.08,18.9,17.0,16.18,13.32,15.21,17.3,12.88,17.93,19.35,19.86,14.78,19.02,14.23,17.53,16.54,16.84,14.96,15.45,14.71,18.9,14.74,16.03,14.96,17.07,14.07,19.07,18.59,16.21,15.49,18.32,18.07,21.57,18.84,18.29,16.95,18.02,13.21,16.07,16.07,20.22,28.21,15.15,12.96,14.93,22.72,17.48,13.72,14.09,16.16,15.5,12.22,16.84,17.72,17.18,18.89,17.46,14.83,17.26,10.91,18.29,16.17,14.95,18.59,14.86,21.37,17.92,17.57,16.83,21.68,22.11,21.17,21.7,12.17,21.41,19.04,13.98,16.02,19.13,19.12,21.28,14.98,21.98,16.62,17.67,17.68,16.94,19.54,15.98,19.6,15.66,17.2,15.79,18.32,24.89,17.66,19.34,21.54,28.23,13.98,17.15,30.72,29.29,25.25,25.13,28.2,26.99,18.36,18.22,20.13,20.74,18.1,18.18,18.49,28.14,14.93,29.97,15.62,15.73,20.53,16.62,14.59,18.03,19.24,14.06,17.64,11.28,16.41,16.85,16.17,22.44,13.23,12.83,20.54,20.21,18.17,17.31,16.74,16.32,12.87,13.14,20.04,17.12,15.7,14.69,14.7,13.66,18.61,18.22,16.7,13.9,19.83,18.68,15.68,13.1,18.75,12.27,13.17,13.44,17.56,20.02,16.33,17.62,24.44,25.49,25.44,14.44,24.99,25.42,28.06,20.7,23.23,16.35,16.58,19.34,24.21,21.48,22.44,29.43,21.94,28.92,27.61,19.59,27.88,22.68,23.93,27.15,29.37,24.54],\"yaxis\":\"y\",\"type\":\"scatter\"}],                        {\"template\":{\"data\":{\"bar\":[{\"error_x\":{\"color\":\"#2a3f5f\"},\"error_y\":{\"color\":\"#2a3f5f\"},\"marker\":{\"line\":{\"color\":\"#E5ECF6\",\"width\":0.5},\"pattern\":{\"fillmode\":\"overlay\",\"size\":10,\"solidity\":0.2}},\"type\":\"bar\"}],\"barpolar\":[{\"marker\":{\"line\":{\"color\":\"#E5ECF6\",\"width\":0.5},\"pattern\":{\"fillmode\":\"overlay\",\"size\":10,\"solidity\":0.2}},\"type\":\"barpolar\"}],\"carpet\":[{\"aaxis\":{\"endlinecolor\":\"#2a3f5f\",\"gridcolor\":\"white\",\"linecolor\":\"white\",\"minorgridcolor\":\"white\",\"startlinecolor\":\"#2a3f5f\"},\"baxis\":{\"endlinecolor\":\"#2a3f5f\",\"gridcolor\":\"white\",\"linecolor\":\"white\",\"minorgridcolor\":\"white\",\"startlinecolor\":\"#2a3f5f\"},\"type\":\"carpet\"}],\"choropleth\":[{\"colorbar\":{\"outlinewidth\":0,\"ticks\":\"\"},\"type\":\"choropleth\"}],\"contour\":[{\"colorbar\":{\"outlinewidth\":0,\"ticks\":\"\"},\"colorscale\":[[0.0,\"#0d0887\"],[0.1111111111111111,\"#46039f\"],[0.2222222222222222,\"#7201a8\"],[0.3333333333333333,\"#9c179e\"],[0.4444444444444444,\"#bd3786\"],[0.5555555555555556,\"#d8576b\"],[0.6666666666666666,\"#ed7953\"],[0.7777777777777778,\"#fb9f3a\"],[0.8888888888888888,\"#fdca26\"],[1.0,\"#f0f921\"]],\"type\":\"contour\"}],\"contourcarpet\":[{\"colorbar\":{\"outlinewidth\":0,\"ticks\":\"\"},\"type\":\"contourcarpet\"}],\"heatmap\":[{\"colorbar\":{\"outlinewidth\":0,\"ticks\":\"\"},\"colorscale\":[[0.0,\"#0d0887\"],[0.1111111111111111,\"#46039f\"],[0.2222222222222222,\"#7201a8\"],[0.3333333333333333,\"#9c179e\"],[0.4444444444444444,\"#bd3786\"],[0.5555555555555556,\"#d8576b\"],[0.6666666666666666,\"#ed7953\"],[0.7777777777777778,\"#fb9f3a\"],[0.8888888888888888,\"#fdca26\"],[1.0,\"#f0f921\"]],\"type\":\"heatmap\"}],\"heatmapgl\":[{\"colorbar\":{\"outlinewidth\":0,\"ticks\":\"\"},\"colorscale\":[[0.0,\"#0d0887\"],[0.1111111111111111,\"#46039f\"],[0.2222222222222222,\"#7201a8\"],[0.3333333333333333,\"#9c179e\"],[0.4444444444444444,\"#bd3786\"],[0.5555555555555556,\"#d8576b\"],[0.6666666666666666,\"#ed7953\"],[0.7777777777777778,\"#fb9f3a\"],[0.8888888888888888,\"#fdca26\"],[1.0,\"#f0f921\"]],\"type\":\"heatmapgl\"}],\"histogram\":[{\"marker\":{\"pattern\":{\"fillmode\":\"overlay\",\"size\":10,\"solidity\":0.2}},\"type\":\"histogram\"}],\"histogram2d\":[{\"colorbar\":{\"outlinewidth\":0,\"ticks\":\"\"},\"colorscale\":[[0.0,\"#0d0887\"],[0.1111111111111111,\"#46039f\"],[0.2222222222222222,\"#7201a8\"],[0.3333333333333333,\"#9c179e\"],[0.4444444444444444,\"#bd3786\"],[0.5555555555555556,\"#d8576b\"],[0.6666666666666666,\"#ed7953\"],[0.7777777777777778,\"#fb9f3a\"],[0.8888888888888888,\"#fdca26\"],[1.0,\"#f0f921\"]],\"type\":\"histogram2d\"}],\"histogram2dcontour\":[{\"colorbar\":{\"outlinewidth\":0,\"ticks\":\"\"},\"colorscale\":[[0.0,\"#0d0887\"],[0.1111111111111111,\"#46039f\"],[0.2222222222222222,\"#7201a8\"],[0.3333333333333333,\"#9c179e\"],[0.4444444444444444,\"#bd3786\"],[0.5555555555555556,\"#d8576b\"],[0.6666666666666666,\"#ed7953\"],[0.7777777777777778,\"#fb9f3a\"],[0.8888888888888888,\"#fdca26\"],[1.0,\"#f0f921\"]],\"type\":\"histogram2dcontour\"}],\"mesh3d\":[{\"colorbar\":{\"outlinewidth\":0,\"ticks\":\"\"},\"type\":\"mesh3d\"}],\"parcoords\":[{\"line\":{\"colorbar\":{\"outlinewidth\":0,\"ticks\":\"\"}},\"type\":\"parcoords\"}],\"pie\":[{\"automargin\":true,\"type\":\"pie\"}],\"scatter\":[{\"marker\":{\"colorbar\":{\"outlinewidth\":0,\"ticks\":\"\"}},\"type\":\"scatter\"}],\"scatter3d\":[{\"line\":{\"colorbar\":{\"outlinewidth\":0,\"ticks\":\"\"}},\"marker\":{\"colorbar\":{\"outlinewidth\":0,\"ticks\":\"\"}},\"type\":\"scatter3d\"}],\"scattercarpet\":[{\"marker\":{\"colorbar\":{\"outlinewidth\":0,\"ticks\":\"\"}},\"type\":\"scattercarpet\"}],\"scattergeo\":[{\"marker\":{\"colorbar\":{\"outlinewidth\":0,\"ticks\":\"\"}},\"type\":\"scattergeo\"}],\"scattergl\":[{\"marker\":{\"colorbar\":{\"outlinewidth\":0,\"ticks\":\"\"}},\"type\":\"scattergl\"}],\"scattermapbox\":[{\"marker\":{\"colorbar\":{\"outlinewidth\":0,\"ticks\":\"\"}},\"type\":\"scattermapbox\"}],\"scatterpolar\":[{\"marker\":{\"colorbar\":{\"outlinewidth\":0,\"ticks\":\"\"}},\"type\":\"scatterpolar\"}],\"scatterpolargl\":[{\"marker\":{\"colorbar\":{\"outlinewidth\":0,\"ticks\":\"\"}},\"type\":\"scatterpolargl\"}],\"scatterternary\":[{\"marker\":{\"colorbar\":{\"outlinewidth\":0,\"ticks\":\"\"}},\"type\":\"scatterternary\"}],\"surface\":[{\"colorbar\":{\"outlinewidth\":0,\"ticks\":\"\"},\"colorscale\":[[0.0,\"#0d0887\"],[0.1111111111111111,\"#46039f\"],[0.2222222222222222,\"#7201a8\"],[0.3333333333333333,\"#9c179e\"],[0.4444444444444444,\"#bd3786\"],[0.5555555555555556,\"#d8576b\"],[0.6666666666666666,\"#ed7953\"],[0.7777777777777778,\"#fb9f3a\"],[0.8888888888888888,\"#fdca26\"],[1.0,\"#f0f921\"]],\"type\":\"surface\"}],\"table\":[{\"cells\":{\"fill\":{\"color\":\"#EBF0F8\"},\"line\":{\"color\":\"white\"}},\"header\":{\"fill\":{\"color\":\"#C8D4E3\"},\"line\":{\"color\":\"white\"}},\"type\":\"table\"}]},\"layout\":{\"annotationdefaults\":{\"arrowcolor\":\"#2a3f5f\",\"arrowhead\":0,\"arrowwidth\":1},\"autotypenumbers\":\"strict\",\"coloraxis\":{\"colorbar\":{\"outlinewidth\":0,\"ticks\":\"\"}},\"colorscale\":{\"diverging\":[[0,\"#8e0152\"],[0.1,\"#c51b7d\"],[0.2,\"#de77ae\"],[0.3,\"#f1b6da\"],[0.4,\"#fde0ef\"],[0.5,\"#f7f7f7\"],[0.6,\"#e6f5d0\"],[0.7,\"#b8e186\"],[0.8,\"#7fbc41\"],[0.9,\"#4d9221\"],[1,\"#276419\"]],\"sequential\":[[0.0,\"#0d0887\"],[0.1111111111111111,\"#46039f\"],[0.2222222222222222,\"#7201a8\"],[0.3333333333333333,\"#9c179e\"],[0.4444444444444444,\"#bd3786\"],[0.5555555555555556,\"#d8576b\"],[0.6666666666666666,\"#ed7953\"],[0.7777777777777778,\"#fb9f3a\"],[0.8888888888888888,\"#fdca26\"],[1.0,\"#f0f921\"]],\"sequentialminus\":[[0.0,\"#0d0887\"],[0.1111111111111111,\"#46039f\"],[0.2222222222222222,\"#7201a8\"],[0.3333333333333333,\"#9c179e\"],[0.4444444444444444,\"#bd3786\"],[0.5555555555555556,\"#d8576b\"],[0.6666666666666666,\"#ed7953\"],[0.7777777777777778,\"#fb9f3a\"],[0.8888888888888888,\"#fdca26\"],[1.0,\"#f0f921\"]]},\"colorway\":[\"#636efa\",\"#EF553B\",\"#00cc96\",\"#ab63fa\",\"#FFA15A\",\"#19d3f3\",\"#FF6692\",\"#B6E880\",\"#FF97FF\",\"#FECB52\"],\"font\":{\"color\":\"#2a3f5f\"},\"geo\":{\"bgcolor\":\"white\",\"lakecolor\":\"white\",\"landcolor\":\"#E5ECF6\",\"showlakes\":true,\"showland\":true,\"subunitcolor\":\"white\"},\"hoverlabel\":{\"align\":\"left\"},\"hovermode\":\"closest\",\"mapbox\":{\"style\":\"light\"},\"paper_bgcolor\":\"white\",\"plot_bgcolor\":\"#E5ECF6\",\"polar\":{\"angularaxis\":{\"gridcolor\":\"white\",\"linecolor\":\"white\",\"ticks\":\"\"},\"bgcolor\":\"#E5ECF6\",\"radialaxis\":{\"gridcolor\":\"white\",\"linecolor\":\"white\",\"ticks\":\"\"}},\"scene\":{\"xaxis\":{\"backgroundcolor\":\"#E5ECF6\",\"gridcolor\":\"white\",\"gridwidth\":2,\"linecolor\":\"white\",\"showbackground\":true,\"ticks\":\"\",\"zerolinecolor\":\"white\"},\"yaxis\":{\"backgroundcolor\":\"#E5ECF6\",\"gridcolor\":\"white\",\"gridwidth\":2,\"linecolor\":\"white\",\"showbackground\":true,\"ticks\":\"\",\"zerolinecolor\":\"white\"},\"zaxis\":{\"backgroundcolor\":\"#E5ECF6\",\"gridcolor\":\"white\",\"gridwidth\":2,\"linecolor\":\"white\",\"showbackground\":true,\"ticks\":\"\",\"zerolinecolor\":\"white\"}},\"shapedefaults\":{\"line\":{\"color\":\"#2a3f5f\"}},\"ternary\":{\"aaxis\":{\"gridcolor\":\"white\",\"linecolor\":\"white\",\"ticks\":\"\"},\"baxis\":{\"gridcolor\":\"white\",\"linecolor\":\"white\",\"ticks\":\"\"},\"bgcolor\":\"#E5ECF6\",\"caxis\":{\"gridcolor\":\"white\",\"linecolor\":\"white\",\"ticks\":\"\"}},\"title\":{\"x\":0.05},\"xaxis\":{\"automargin\":true,\"gridcolor\":\"white\",\"linecolor\":\"white\",\"ticks\":\"\",\"title\":{\"standoff\":15},\"zerolinecolor\":\"white\",\"zerolinewidth\":2},\"yaxis\":{\"automargin\":true,\"gridcolor\":\"white\",\"linecolor\":\"white\",\"ticks\":\"\",\"title\":{\"standoff\":15},\"zerolinecolor\":\"white\",\"zerolinewidth\":2}}},\"xaxis\":{\"anchor\":\"y\",\"domain\":[0.0,1.0],\"title\":{\"text\":\"radius_mean\"}},\"yaxis\":{\"anchor\":\"x\",\"domain\":[0.0,1.0],\"title\":{\"text\":\"texture_mean\"}},\"legend\":{\"title\":{\"text\":\"outcome\"},\"tracegroupgap\":0},\"margin\":{\"t\":60}},                        {\"responsive\": true}                    ).then(function(){\n                            \nvar gd = document.getElementById('6f66091e-3c5b-4ba9-8591-8bd2d7df327f');\nvar x = new MutationObserver(function (mutations, observer) {{\n        var display = window.getComputedStyle(gd).display;\n        if (!display || display === 'none') {{\n            console.log([gd, 'removed!']);\n            Plotly.purge(gd);\n            observer.disconnect();\n        }}\n}});\n\n// Listen for the removal of the full notebook cells\nvar notebookContainer = gd.closest('#notebook-container');\nif (notebookContainer) {{\n    x.observe(notebookContainer, {childList: true});\n}}\n\n// Listen for the clearing of the current output cell\nvar outputEl = gd.closest('.output');\nif (outputEl) {{\n    x.observe(outputEl, {childList: true});\n}}\n\n                        })                };                            </script>        </div>\n</body>\n</html>"
     },
     "execution_count": 24,
     "metadata": {
     },
     "output_type": "execute_result"
    }
   ],
   "source": [
    "# Visualization 2 here\n",
    "fig1 = px.scatter(breast_cancer, x=\"radius_mean\", y=\"texture_mean\", color=\"outcome\")\n",
    "fig1.show()"
   ]
  },
  {
   "cell_type": "markdown",
   "metadata": {
    "collapsed": false,
    "id": "EvyKXnr27SaE"
   },
   "source": [
    "### Are you ready to perform machine learning? \n",
    "\n",
    "Do you think deciding whether a tumor is benign or malignant is classification or regression? Talk with your team for a minute.\n",
    "\n",
    "Either way, we need to tell our code what our target variable is, and what our input is going to be. <br> **TODO:** Can you do so below?\n",
    "\n"
   ]
  },
  {
   "cell_type": "code",
   "execution_count": 25,
   "metadata": {
    "collapsed": false,
    "id": "tZOfTkVx8w2K"
   },
   "outputs": [
   ],
   "source": [
    "# Create a variable named target and set it equal to the [\"outcome\"] column in our breast_cancer dataframe.\n",
    "target = breast_cancer[['outcome']]"
   ]
  },
  {
   "cell_type": "code",
   "execution_count": 26,
   "metadata": {
    "collapsed": false,
    "id": "X6wHkQax9chF"
   },
   "outputs": [
   ],
   "source": [
    "# Create a variable named input_columns and set it equal to breast_cancer.loc[:, breast_cancer.columns != \"outcome\"]. This means our inputs are every single column except for column!\n",
    "input_columns = breast_cancer.loc[:, breast_cancer.columns != \"outcome\"]"
   ]
  },
  {
   "cell_type": "markdown",
   "metadata": {
    "collapsed": false,
    "id": "TsxggVkp81js"
   },
   "source": [
    "### Splitting the Data\n",
    "\n",
    "For every single supervised machine learning problem, we will follow the same flow with `sklearn`:\n",
    "\n",
    "> *Split, Fit, Predict, and Evaluate.*\n",
    "\n",
    "What is first? Splitting our data into training and testing sets. You can watch a video on why we do that [in the first 36 seconds of this video](https://www.youtube.com/watch?v=_vdMKioCXqQ). \n",
    "\n",
    "We will split our data using the [`train_test_split()`](https://scikit-learn.org/stable/modules/generated/sklearn.model_selection.train_test_split.html) function on `sklearn` using the same flow as this tutorial: https://realpython.com/train-test-split-python-data/#application-of-train_test_split. The code to do so is below. "
   ]
  },
  {
   "cell_type": "code",
   "execution_count": 27,
   "metadata": {
    "collapsed": false,
    "id": "9I03IMDT8tdn"
   },
   "outputs": [
   ],
   "source": [
    "import sklearn\n",
    "from sklearn.model_selection import train_test_split\n",
    "\n",
    "x_train, x_test, y_train, y_test = train_test_split(input_columns, target, test_size=0.2)"
   ]
  },
  {
   "cell_type": "markdown",
   "metadata": {
    "collapsed": false,
    "id": "rcQ-PJQF9XSA"
   },
   "source": [
    "**TODO:** can you look at the shape of the x_train, x_test, y_train, and y_test columns? Why does the shape of these columns make sense? "
   ]
  },
  {
   "cell_type": "code",
   "execution_count": 31,
   "metadata": {
    "collapsed": false,
    "id": "Ok87vW5k-GTS"
   },
   "outputs": [
    {
     "data": {
      "text/plain": [
       "(114, 30)"
      ]
     },
     "execution_count": 31,
     "metadata": {
     },
     "output_type": "execute_result"
    }
   ],
   "source": [
    "#hint: start with x_train.shape\n",
    "x_test.shape"
   ]
  },
  {
   "cell_type": "markdown",
   "metadata": {
    "collapsed": false,
    "id": "tY5UwAsS9sCV"
   },
   "source": [
    "**TODO:** Can you print the outputs with print(y_train) and print(y_test)? What do these 1's and 0's represent?"
   ]
  },
  {
   "cell_type": "code",
   "execution_count": 32,
   "metadata": {
    "collapsed": false,
    "id": "4wMcDBPW9n3C"
   },
   "outputs": [
    {
     "name": "stdout",
     "output_type": "stream",
     "text": [
      "     outcome\n",
      "300        1\n",
      "494        0\n",
      "401        0\n",
      "420        0\n",
      "462        0\n",
      "..       ...\n",
      "568        0\n",
      "52         0\n",
      "334        0\n",
      "289        0\n",
      "491        0\n",
      "\n",
      "[455 rows x 1 columns]\n",
      "     outcome\n",
      "518        0\n",
      "363        0\n",
      "443        0\n",
      "119        1\n",
      "135        1\n",
      "..       ...\n",
      "131        1\n",
      "440        0\n",
      "269        0\n",
      "237        1\n",
      "245        0\n",
      "\n",
      "[114 rows x 1 columns]\n"
     ]
    }
   ],
   "source": [
    "#print outputs\n",
    "print(y_train)\n",
    "print(y_test)"
   ]
  },
  {
   "cell_type": "markdown",
   "metadata": {
    "collapsed": false,
    "id": "2lWxo646-Fka"
   },
   "source": [
    "### We have split, now we gotta fit!\n",
    "Now that are data is preprocessed (all numerical), and split (80/20 train/test) for machine learning, we can create a model to **classify** whether a patient has malignant (1) or benign (0) breast cancer!\n",
    "\n",
    "The first model is a classification model called K Nearest Neighbors. You can watch a video on how K Nearest Neighbors works here: https://www.youtube.com/watch?v=0p0o5cmgLdE.\n",
    "\n",
    "First things first, we need to import our model using SKLearn. You can follow the [guide]( https://scikit-learn.org/stable/auto_examples/neighbors/plot_classification.html#sphx-glr-auto-examples-neighbors-plot-classification-py) here to see how this tutorial works.\n"
   ]
  },
  {
   "cell_type": "code",
   "execution_count": 33,
   "metadata": {
    "collapsed": false,
    "id": "RDDyWqva92IH"
   },
   "outputs": [
   ],
   "source": [
    "import sklearn #our favorite machine learning library\n",
    "from sklearn.neighbors import KNeighborsClassifier as KNN #this will import our model as KNN"
   ]
  },
  {
   "cell_type": "markdown",
   "metadata": {
    "collapsed": false,
    "id": "tv1P3go2_U5O"
   },
   "source": [
    "**Creating the model object:**  we need to create an instance of the model. This is like having a model and giving it a nickname so we can remember it, change it, and save it to work custom on our dataset. "
   ]
  },
  {
   "cell_type": "code",
   "execution_count": 35,
   "metadata": {
    "collapsed": false,
    "id": "GzCrGDYI-4FR"
   },
   "outputs": [
   ],
   "source": [
    "# Creating the KNN model object -- we need to tell it the number of neighbors to look at.\n",
    "k = 7 #number of neighbors to look at (look at 7 nearest neighbors)\n",
    "my_KNN_model = KNN(n_neighbors=k)"
   ]
  },
  {
   "cell_type": "markdown",
   "metadata": {
    "collapsed": false,
    "id": "IzQ8yZj5Q0Eg"
   },
   "source": [
    "And there you have it. We have a K Nearest Neighbors model that will look at the 7 nearest neighbors, and gave it a nice nickname, my_KNN_model. <br> <br>\n",
    "\n",
    "**Fitting (Training) the model object:** **Supervised machine learning** training involves learning from past results (`y_train`) and past inputs (`x_train`). We pass these to our model for learning to teach our model to answer the question \"*based on these inputs, what outputs can we expect?*\"\n",
    "<br>\n",
    "\n",
    "To do this, we want to let this model learn from our data. We do so by running our model object's `.fit()` function on our training data."
   ]
  },
  {
   "cell_type": "code",
   "execution_count": 36,
   "metadata": {
    "collapsed": false,
    "id": "VseIx97TSHQP"
   },
   "outputs": [
    {
     "name": "stderr",
     "output_type": "stream",
     "text": [
      "/usr/local/lib/python3.8/dist-packages/sklearn/neighbors/_classification.py:198: DataConversionWarning:\n",
      "\n",
      "A column-vector y was passed when a 1d array was expected. Please change the shape of y to (n_samples,), for example using ravel().\n",
      "\n"
     ]
    },
    {
     "data": {
      "text/plain": [
       "KNeighborsClassifier(n_neighbors=7)"
      ]
     },
     "execution_count": 36,
     "metadata": {
     },
     "output_type": "execute_result"
    }
   ],
   "source": [
    "my_KNN_model.fit(x_train, y_train) #train the model on our past results x_train (inputs) and y_train (outputs)"
   ]
  },
  {
   "cell_type": "markdown",
   "metadata": {
    "collapsed": false,
    "id": "qRJKWrA6hhdf"
   },
   "source": [
    "**Prediction and Evaluation:** How do we know if our model is actually good? We need to **test** our model by giving it a two-step quiz. \n",
    "\n",
    "Step 1: We let our model use our testing inputs (`x_test`) to make predictions that guess the whether the patient has benign or malignant tumors (we call these predictions `y_hat`). In this case our `y_hat`'s are a bunch of 1's and 0's that represent whether our model thinks the patient's tumor is benign or malignant. \n",
    "\n",
    "We do this by running our model object's `.predict()` function."
   ]
  },
  {
   "cell_type": "code",
   "execution_count": 0,
   "metadata": {
    "collapsed": false,
    "id": "CVBaqGOIiEfP"
   },
   "outputs": [
   ],
   "source": [
    "#make some predictions based on your testing inputs (x_test) using the predict() function\n",
    "y_hat = my_KNN_model.predict(x_test)"
   ]
  },
  {
   "cell_type": "code",
   "execution_count": 0,
   "metadata": {
    "collapsed": false,
    "id": "T-ifi-bGj7fx"
   },
   "outputs": [
   ],
   "source": [
    "y_hat #these are our predictions for our x_test inputs. "
   ]
  },
  {
   "cell_type": "code",
   "execution_count": 0,
   "metadata": {
    "collapsed": false,
    "id": "TjLu8V3bj8_F"
   },
   "outputs": [
   ],
   "source": [
    "np.array(y_test) #these are what actually happened for our x_test inputs. Do you see some differences?"
   ]
  },
  {
   "cell_type": "markdown",
   "metadata": {
    "collapsed": false,
    "id": "SbywAxezkRN8"
   },
   "source": [
    "Step 2 - Evaluation: Here we want to compare `y_hat` to `y_test`. Discuss with your team about why we should do this. \n",
    "\n",
    "One we we can compare them is visual inspection. With that said, would you recommend going through by hand and making a tally for every time the one's and zero's don't match up?\n",
    "\n",
    "Please don't do this. Please save yourself this nasty headache when we can just do math. Below is a common way to do this, called mean squared error. \n",
    "\n",
    "To get mean squared error, we compute the difference between each element in `y_hat` and `y_test` and square it and then get the average of all of that to see how far off we are."
   ]
  },
  {
   "cell_type": "code",
   "execution_count": 0,
   "metadata": {
    "collapsed": false,
    "id": "eLFffHy1kFBh"
   },
   "outputs": [
   ],
   "source": [
    "total_squared_error = (np.sum((y_test - y_hat)**2)) #get the sum of all the errors (error = what we want (y_test) - what we predicted (y_hat))\n",
    "mean_squared_error = total_squared_error/len(y_test) #divide this by how many rows/observations we have \n",
    "print(mean_squared_error)"
   ]
  },
  {
   "cell_type": "markdown",
   "metadata": {
    "collapsed": false,
    "id": "bYj4HCmOmH42"
   },
   "source": [
    "**Not too bad!** MSE represents  the average error (difference) between our model and the correct result. A low mean squared error means that our model makes the correct guess most of the time. \n",
    "\n",
    "But we have to think about the nature of the problem. As Data Scientists, do we want to tell someone that we have this average error when we are predicting something as serious as breast cancer? \n",
    "\n",
    "And what does an error mean? Are we telling them they don't have a malignant tumor (y_hat=0) when they actually do (y_test = 1)? Are we telling them they have a tumor (y_hat=1) when they actually don't (y_test = 0)?\n",
    "\n",
    "We can get insights on this through a confusion matrix. "
   ]
  },
  {
   "cell_type": "code",
   "execution_count": 0,
   "metadata": {
    "collapsed": false,
    "id": "WCZLL1wZnfTn"
   },
   "outputs": [
   ],
   "source": [
    "from sklearn.metrics import confusion_matrix\n",
    "import seaborn as sns\n",
    "sns.heatmap(confusion_matrix(y_test, y_hat), annot=True, fmt='g')"
   ]
  },
  {
   "cell_type": "markdown",
   "metadata": {
    "collapsed": false,
    "id": "mCR5MW5gp0ni"
   },
   "source": [
    "**What is this???** I encourage you and your team to read about it here: https://towardsdatascience.com/understanding-confusion-matrix-a9ad42dcfd62. You should define what true positives, true negatives, false positives, and false negatives represent for this scenario. \n",
    "\n",
    "Discuss what other  findings you can take away, and talk with your instructor about metrics like accuracy, precision and recall!"
   ]
  },
  {
   "cell_type": "markdown",
   "metadata": {
    "collapsed": false,
    "id": "tbo3cueVq7EV"
   },
   "source": [
    "**The last step!!** We need to change parameters and data to improve our model as we go. If we can make even 1 more correct cancer prediction, it is worth it, right? \n",
    "\n",
    "**TODO:** Go back and change the value of `k` in the **creating your model object** section and re-run all the code below it. See what changes with your MSE and confusion matrix!"
   ]
  },
  {
   "cell_type": "markdown",
   "metadata": {
    "collapsed": false,
    "id": "ObvQ_3pPmPBf"
   },
   "source": [
    "### Code Your Own Machine Learning Model\n",
    "\n",
    "It's time for us to create our own classifier. Let's go with an [SVM](https://www.youtube.com/watch?v=_YPScrckx28). We will do the first step for you.\n",
    "\n",
    "I know it was a lot of information in the last section, but the code is *basically* the same. Since our data is already split, you will follow the same steps to fit your model, make some predictions, evaluate the performance, and visualize your confusion matrix."
   ]
  },
  {
   "cell_type": "code",
   "execution_count": 0,
   "metadata": {
    "collapsed": false,
    "id": "LW9bLcghmT5d"
   },
   "outputs": [
   ],
   "source": [
    "from sklearn.svm import SVC\n",
    "#Create your model object -- you can go back and change the kernel argument after evaluating your data."
   ]
  },
  {
   "cell_type": "markdown",
   "metadata": {
    "collapsed": false,
    "id": "Bk4rua0er_QF"
   },
   "source": [
    "Do you remember how to fit a model? What parts of our data do we fit/train on? You can go look at the section above for inspiration."
   ]
  },
  {
   "cell_type": "code",
   "execution_count": 0,
   "metadata": {
    "collapsed": false,
    "id": "cu2cA4YBqrNL"
   },
   "outputs": [
   ],
   "source": [
    "#fit your model\n"
   ]
  },
  {
   "cell_type": "markdown",
   "metadata": {
    "collapsed": false,
    "id": "4oAExynzsveF"
   },
   "source": [
    "Now create some predictions and set them equal to `y_hat`. You can look above or google how to make predictions on sklearn if you get confused!"
   ]
  },
  {
   "cell_type": "code",
   "execution_count": 0,
   "metadata": {
    "collapsed": false,
    "id": "Hkrx7foxsuNZ"
   },
   "outputs": [
   ],
   "source": [
    "#create some predictions on your testing inputs and set them equal to y_hat.\n"
   ]
  },
  {
   "cell_type": "markdown",
   "metadata": {
    "collapsed": false,
    "id": "k-ANsXzitBdu"
   },
   "source": [
    "Compute your MSE below. Is this higher or lower than KNN? Which one would you recommend so far?"
   ]
  },
  {
   "cell_type": "code",
   "execution_count": 0,
   "metadata": {
    "collapsed": false,
    "id": "zz8OFQxFs8N0"
   },
   "outputs": [
   ],
   "source": [
    "#Compute your MSE.\n"
   ]
  },
  {
   "cell_type": "markdown",
   "metadata": {
    "collapsed": false,
    "id": "Ge0IHJ7AtQI2"
   },
   "source": [
    "Now, create a confusion matrix! How are the results? Do we end up with more false negatives or false positives?"
   ]
  },
  {
   "cell_type": "code",
   "execution_count": 0,
   "metadata": {
    "collapsed": false,
    "id": "Xlm2k_-otFgI"
   },
   "outputs": [
   ],
   "source": [
    "#Create a confusion matrix\n"
   ]
  },
  {
   "cell_type": "markdown",
   "metadata": {
    "collapsed": false,
    "id": "6AyqrZd9v9BR"
   },
   "source": [
    "Amazing, now try changing your kernel and seeing how your results change. You can research what kernels are available here: https://scikit-learn.org/stable/modules/generated/sklearn.svm.SVC.html. If your interested in more ML with SKLearn you should get used to pages like these!"
   ]
  },
  {
   "cell_type": "markdown",
   "metadata": {
    "collapsed": false,
    "id": "hd9Jqq18wFkd"
   },
   "source": [
    "### Want more?\n",
    "\n",
    "There are dozens of models available on SKLearn: https://scikit-learn.org/stable/supervised_learning.html.\n",
    "\n",
    "You can try an implement your own below, I recommend starting with logistic regression or random forests :) "
   ]
  },
  {
   "cell_type": "code",
   "execution_count": 0,
   "metadata": {
    "collapsed": false,
    "id": "CC0NmaY7v7_K"
   },
   "outputs": [
   ],
   "source": [
    "#have fun!"
   ]
  }
 ],
 "metadata": {
  "colab": {
   "collapsed_sections": [
   ],
   "name": "Cancer_detection.ipynb",
   "provenance": [
   ]
  },
  "kernelspec": {
   "display_name": "Python 3 (Ubuntu Linux)",
   "language": "python",
   "name": "python3-ubuntu",
   "resource_dir": "/usr/local/share/jupyter/kernels/python3-ubuntu"
  },
  "language_info": {
   "codemirror_mode": {
    "name": "ipython",
    "version": 3
   },
   "file_extension": ".py",
   "mimetype": "text/x-python",
   "name": "python",
   "nbconvert_exporter": "python",
   "pygments_lexer": "ipython3",
   "version": "3.8.10"
  }
 },
 "nbformat": 4,
 "nbformat_minor": 4
}